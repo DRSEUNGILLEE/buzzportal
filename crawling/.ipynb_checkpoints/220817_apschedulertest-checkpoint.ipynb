{
 "cells": [
  {
   "cell_type": "code",
   "execution_count": 3,
   "id": "87489210",
   "metadata": {},
   "outputs": [],
   "source": [
    "from apscheduler.schedulers.background import BackgroundScheduler\n",
    "from apscheduler.schedulers.background import BackgroundScheduler\n",
    " \n",
    "def schedulerJob():\n",
    "    print(\"running\")\n",
    "    \n",
    "scheduler = BackgroundScheduler(daemon=True)\n",
    "scheduler.start()\n",
    "scheduler.add_job(schedulerJob, 'interval', seconds=5)\n",
    "scheduler.shutdown()\n"
   ]
  },
  {
   "cell_type": "code",
   "execution_count": 2,
   "id": "17f08dd0",
   "metadata": {},
   "outputs": [],
   "source": [
    "scheduler.shutdown()"
   ]
  },
  {
   "cell_type": "code",
   "execution_count": null,
   "id": "01f59067",
   "metadata": {},
   "outputs": [],
   "source": []
  }
 ],
 "metadata": {
  "kernelspec": {
   "display_name": "Python 3 (ipykernel)",
   "language": "python",
   "name": "python3"
  },
  "language_info": {
   "codemirror_mode": {
    "name": "ipython",
    "version": 3
   },
   "file_extension": ".py",
   "mimetype": "text/x-python",
   "name": "python",
   "nbconvert_exporter": "python",
   "pygments_lexer": "ipython3",
   "version": "3.9.7"
  }
 },
 "nbformat": 4,
 "nbformat_minor": 5
}
