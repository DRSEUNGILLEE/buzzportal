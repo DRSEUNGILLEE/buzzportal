{
 "cells": [
  {
   "cell_type": "markdown",
   "metadata": {},
   "source": [
    "# 0. install package"
   ]
  },
  {
   "cell_type": "markdown",
   "metadata": {},
   "source": [
    "!pip install google-play-scraper"
   ]
  },
  {
   "cell_type": "markdown",
   "metadata": {},
   "source": [
    "# 1. crawl data"
   ]
  },
  {
   "cell_type": "code",
   "execution_count": 1,
   "metadata": {},
   "outputs": [],
   "source": [
    "from google_play_scraper import Sort, reviews_all\n",
    "\n",
    "result = reviews_all(\n",
    "    'com.miraeasset.trade',\n",
    "    sleep_milliseconds=5000, # defaults to 0\n",
    "    lang='ko', # defaults to 'en'\n",
    "    country='kr', # defaults to 'us'\n",
    "    sort=Sort.NEWEST, # defaults to Sort.MOST_RELEVANT\n",
    "    filter_score_with=None # defaults to None(means all score)\n",
    ")"
   ]
  },
  {
   "cell_type": "markdown",
   "metadata": {},
   "source": [
    "# 2. simple analysis"
   ]
  },
  {
   "cell_type": "code",
   "execution_count": 12,
   "metadata": {},
   "outputs": [],
   "source": [
    "import pandas as pd\n",
    "import datetime\n",
    "\n",
    "df = pd.DataFrame(result)"
   ]
  },
  {
   "cell_type": "code",
   "execution_count": 26,
   "metadata": {},
   "outputs": [],
   "source": [
    "# df.to_csv(\"google_review.csv\", index= False)"
   ]
  },
  {
   "cell_type": "code",
   "execution_count": 28,
   "metadata": {},
   "outputs": [],
   "source": [
    "import pandas as pd\n",
    "import matplotlib.pyplot as plt\n",
    "import numpy as np\n",
    "from pmdarima.arima import ndiffs\n",
    "import pmdarima as pm\n"
   ]
  },
  {
   "cell_type": "code",
   "execution_count": null,
   "metadata": {},
   "outputs": [],
   "source": [
    "df['at'] = df['at'].apply(lambda x: datetime.datetime.strftime(x, '%Y-%m-%d'))\n"
   ]
  },
  {
   "cell_type": "code",
   "execution_count": 30,
   "metadata": {},
   "outputs": [
    {
     "data": {
      "text/plain": [
       "<AxesSubplot:xlabel='at'>"
      ]
     },
     "execution_count": 30,
     "metadata": {},
     "output_type": "execute_result"
    },
    {
     "data": {
      "image/png": "[encoded data removed]",
      "text/plain": [
       "<Figure size 720x576 with 1 Axes>"
      ]
     },
     "metadata": {
      "needs_background": "light"
     },
     "output_type": "display_data"
    }
   ],
   "source": [
    "plt.figure(figsize=(10,8))\n",
    "y_ = df.groupby(\"at\").count().reviewId\n",
    "y_.plot()\n"
   ]
  },
  {
   "cell_type": "code",
   "execution_count": 31,
   "metadata": {},
   "outputs": [
    {
     "name": "stdout",
     "output_type": "stream",
     "text": [
      "추정된 차수 d = 1\n"
     ]
    }
   ],
   "source": [
    "kpss_diffs = ndiffs(y_.values, alpha=0.05, test='kpss', max_d=6)\n",
    "adf_diffs = ndiffs(y_.values, alpha=0.05, test='adf', max_d=6)\n",
    "n_diffs = max(adf_diffs, kpss_diffs)\n",
    "\n",
    "print(f\"추정된 차수 d = {n_diffs}\")\n"
   ]
  },
  {
   "cell_type": "code",
   "execution_count": 150,
   "metadata": {},
   "outputs": [
    {
     "name": "stderr",
     "output_type": "stream",
     "text": [
      "c:\\Users\\7113606\\AppData\\Local\\Programs\\Python\\Python37\\lib\\site-packages\\pmdarima\\arima\\_auto_solvers.py:522: ModelFitWarning: Error fitting  ARIMA(5,0,1)(0,0,0)[0]           (if you do not want to see these warnings, run with error_action=\"ignore\").\n",
      "Traceback:\n",
      "Traceback (most recent call last):\n",
      "  File \"c:\\Users\\7113606\\AppData\\Local\\Programs\\Python\\Python37\\lib\\site-packages\\pmdarima\\arima\\_auto_solvers.py\", line 506, in _fit_candidate_model\n",
      "    fit.fit(y, X=X, **fit_params)\n",
      "  File \"c:\\Users\\7113606\\AppData\\Local\\Programs\\Python\\Python37\\lib\\site-packages\\pmdarima\\arima\\arima.py\", line 597, in fit\n",
      "    self._fit(y, X, **fit_args)\n",
      "  File \"c:\\Users\\7113606\\AppData\\Local\\Programs\\Python\\Python37\\lib\\site-packages\\pmdarima\\arima\\arima.py\", line 518, in _fit\n",
      "    fit, self.arima_res_ = _fit_wrapper()\n",
      "  File \"c:\\Users\\7113606\\AppData\\Local\\Programs\\Python\\Python37\\lib\\site-packages\\pmdarima\\arima\\arima.py\", line 512, in _fit_wrapper\n",
      "    **fit_args)\n",
      "  File \"c:\\Users\\7113606\\AppData\\Local\\Programs\\Python\\Python37\\lib\\site-packages\\statsmodels\\tsa\\statespace\\mlemodel.py\", line 709, in fit\n",
      "    skip_hessian=True, **kwargs)\n",
      "  File \"c:\\Users\\7113606\\AppData\\Local\\Programs\\Python\\Python37\\lib\\site-packages\\statsmodels\\base\\model.py\", line 571, in fit\n",
      "    full_output=full_output)\n",
      "  File \"c:\\Users\\7113606\\AppData\\Local\\Programs\\Python\\Python37\\lib\\site-packages\\statsmodels\\base\\optimizer.py\", line 244, in _fit\n",
      "    hess=hessian)\n",
      "  File \"c:\\Users\\7113606\\AppData\\Local\\Programs\\Python\\Python37\\lib\\site-packages\\statsmodels\\base\\optimizer.py\", line 654, in _fit_lbfgs\n",
      "    **extra_kwargs)\n",
      "  File \"c:\\Users\\7113606\\AppData\\Local\\Programs\\Python\\Python37\\lib\\site-packages\\scipy\\optimize\\lbfgsb.py\", line 198, in fmin_l_bfgs_b\n",
      "    **opts)\n",
      "  File \"c:\\Users\\7113606\\AppData\\Local\\Programs\\Python\\Python37\\lib\\site-packages\\scipy\\optimize\\lbfgsb.py\", line 360, in _minimize_lbfgsb\n",
      "    f, g = func_and_grad(x)\n",
      "  File \"c:\\Users\\7113606\\AppData\\Local\\Programs\\Python\\Python37\\lib\\site-packages\\scipy\\optimize\\_differentiable_functions.py\", line 267, in fun_and_grad\n",
      "    self._update_fun()\n",
      "  File \"c:\\Users\\7113606\\AppData\\Local\\Programs\\Python\\Python37\\lib\\site-packages\\scipy\\optimize\\_differentiable_functions.py\", line 233, in _update_fun\n",
      "    self._update_fun_impl()\n",
      "  File \"c:\\Users\\7113606\\AppData\\Local\\Programs\\Python\\Python37\\lib\\site-packages\\scipy\\optimize\\_differentiable_functions.py\", line 137, in update_fun\n",
      "    self.f = fun_wrapped(self.x)\n",
      "  File \"c:\\Users\\7113606\\AppData\\Local\\Programs\\Python\\Python37\\lib\\site-packages\\scipy\\optimize\\_differentiable_functions.py\", line 134, in fun_wrapped\n",
      "    return fun(np.copy(x), *args)\n",
      "  File \"c:\\Users\\7113606\\AppData\\Local\\Programs\\Python\\Python37\\lib\\site-packages\\statsmodels\\base\\model.py\", line 531, in f\n",
      "    return -self.loglike(params, *args) / nobs\n",
      "  File \"c:\\Users\\7113606\\AppData\\Local\\Programs\\Python\\Python37\\lib\\site-packages\\statsmodels\\tsa\\statespace\\mlemodel.py\", line 939, in loglike\n",
      "    loglike = self.ssm.loglike(complex_step=complex_step, **kwargs)\n",
      "  File \"c:\\Users\\7113606\\AppData\\Local\\Programs\\Python\\Python37\\lib\\site-packages\\statsmodels\\tsa\\statespace\\kalman_filter.py\", line 983, in loglike\n",
      "    kfilter = self._filter(**kwargs)\n",
      "  File \"c:\\Users\\7113606\\AppData\\Local\\Programs\\Python\\Python37\\lib\\site-packages\\statsmodels\\tsa\\statespace\\kalman_filter.py\", line 903, in _filter\n",
      "    self._initialize_state(prefix=prefix, complex_step=complex_step)\n",
      "  File \"c:\\Users\\7113606\\AppData\\Local\\Programs\\Python\\Python37\\lib\\site-packages\\statsmodels\\tsa\\statespace\\representation.py\", line 984, in _initialize_state\n",
      "    complex_step=complex_step)\n",
      "  File \"statsmodels\\tsa\\statespace\\_representation.pyx\", line 1362, in statsmodels.tsa.statespace._representation.dStatespace.initialize\n",
      "  File \"statsmodels\\tsa\\statespace\\_initialization.pyx\", line 288, in statsmodels.tsa.statespace._initialization.dInitialization.initialize\n",
      "  File \"statsmodels\\tsa\\statespace\\_initialization.pyx\", line 406, in statsmodels.tsa.statespace._initialization.dInitialization.initialize_stationary_stationary_cov\n",
      "  File \"statsmodels\\tsa\\statespace\\_tools.pyx\", line 1206, in statsmodels.tsa.statespace._tools._dsolve_discrete_lyapunov\n",
      "numpy.linalg.LinAlgError: LU decomposition error.\n",
      "\n",
      "  warnings.warn(warning_str, ModelFitWarning)\n"
     ]
    }
   ],
   "source": [
    "size = 40\n",
    "\n",
    "\n",
    "\n",
    "preds = []\n",
    "upper_confs = []\n",
    "lower_confs = []\n",
    "\n",
    "\n",
    "\n",
    "for i in range(0, len(y_.values)-size+1):\n",
    "    tmp_y = y_.values[i:i+size]\n",
    "    model = pm.auto_arima(y = tmp_y        # 데이터\n",
    "                      , start_p = 0 \n",
    "                      , max_p = 5   \n",
    "                      , start_q = 0 \n",
    "                      , max_q = 5   \n",
    "                      , seasonal = False # 계절성 ARIMA가 아니라면 필수!\n",
    "                      , stepwise = True\n",
    "                      )\n",
    "    model.fit(tmp_y)\n",
    "    fc, conf_int = model.predict(n_periods=1 # 한 스텝씩!\n",
    "                                , return_conf_int=True) \n",
    "    \n",
    "    preds += [fc]\n",
    "    upper_confs += [conf_int[0][1]]\n",
    "    lower_confs += [conf_int[0][0]]"
   ]
  },
  {
   "cell_type": "code",
   "execution_count": 151,
   "metadata": {},
   "outputs": [],
   "source": [
    "preds_ = [pred[0] for pred in preds]\n"
   ]
  },
  {
   "cell_type": "code",
   "execution_count": 152,
   "metadata": {},
   "outputs": [
    {
     "name": "stderr",
     "output_type": "stream",
     "text": [
      "c:\\Users\\7113606\\AppData\\Local\\Programs\\Python\\Python37\\lib\\site-packages\\pandas\\core\\indexing.py:1732: SettingWithCopyWarning: \n",
      "A value is trying to be set on a copy of a slice from a DataFrame\n",
      "\n",
      "See the caveats in the documentation: https://pandas.pydata.org/pandas-docs/stable/user_guide/indexing.html#returning-a-view-versus-a-copy\n",
      "  self._setitem_single_block(indexer, value, name)\n"
     ]
    }
   ],
   "source": [
    "data = pd.DataFrame(y_).rename(columns={'reviewId':\"review_count\"})\n",
    "dates = data.index.tolist()[len(data)-len(preds)+1:]\n",
    "\n",
    "tmp_df = pd.DataFrame(upper_confs[:-1], dates, columns=['upper']).reset_index().rename(columns = {\"index\":\"date\"})\n",
    "\n",
    "data = data.reset_index().rename(columns = {\"at\":\"date\"})\n",
    "\n",
    "data = pd.merge(data, tmp_df, on='date', how='left')\n",
    "score_df = df.groupby(\"at\").mean('score')['score'].reset_index().rename(columns = {\"at\":\"date\"})\n",
    "data = pd.merge(data, score_df, on='date', how='left')\n",
    "\n",
    "\n",
    "\n",
    "data['point'] = np.nan\n",
    "_idx = data[data['review_count'] > data['upper']].index\n",
    "\n",
    "data['point'].loc[_idx] = data['upper'].loc[_idx]\n",
    "\n",
    "\n",
    "\n",
    "data = data.set_index('date')\n"
   ]
  },
  {
   "cell_type": "code",
   "execution_count": 153,
   "metadata": {},
   "outputs": [
    {
     "data": {
      "text/html": [
       "<div>\n",
       "<style scoped>\n",
       "    .dataframe tbody tr th:only-of-type {\n",
       "        vertical-align: middle;\n",
       "    }\n",
       "\n",
       "    .dataframe tbody tr th {\n",
       "        vertical-align: top;\n",
       "    }\n",
       "\n",
       "    .dataframe thead th {\n",
       "        text-align: right;\n",
       "    }\n",
       "</style>\n",
       "<table border=\"1\" class=\"dataframe\">\n",
       "  <thead>\n",
       "    <tr style=\"text-align: right;\">\n",
       "      <th></th>\n",
       "      <th>review_count</th>\n",
       "      <th>upper</th>\n",
       "      <th>score</th>\n",
       "      <th>point</th>\n",
       "    </tr>\n",
       "    <tr>\n",
       "      <th>date</th>\n",
       "      <th></th>\n",
       "      <th></th>\n",
       "      <th></th>\n",
       "      <th></th>\n",
       "    </tr>\n",
       "  </thead>\n",
       "  <tbody>\n",
       "    <tr>\n",
       "      <th>2017-06-27</th>\n",
       "      <td>1</td>\n",
       "      <td>NaN</td>\n",
       "      <td>5.0</td>\n",
       "      <td>NaN</td>\n",
       "    </tr>\n",
       "    <tr>\n",
       "      <th>2017-07-02</th>\n",
       "      <td>1</td>\n",
       "      <td>NaN</td>\n",
       "      <td>5.0</td>\n",
       "      <td>NaN</td>\n",
       "    </tr>\n",
       "    <tr>\n",
       "      <th>2017-07-10</th>\n",
       "      <td>1</td>\n",
       "      <td>NaN</td>\n",
       "      <td>3.0</td>\n",
       "      <td>NaN</td>\n",
       "    </tr>\n",
       "    <tr>\n",
       "      <th>2017-07-11</th>\n",
       "      <td>1</td>\n",
       "      <td>NaN</td>\n",
       "      <td>1.0</td>\n",
       "      <td>NaN</td>\n",
       "    </tr>\n",
       "    <tr>\n",
       "      <th>2017-07-20</th>\n",
       "      <td>1</td>\n",
       "      <td>NaN</td>\n",
       "      <td>4.0</td>\n",
       "      <td>NaN</td>\n",
       "    </tr>\n",
       "    <tr>\n",
       "      <th>...</th>\n",
       "      <td>...</td>\n",
       "      <td>...</td>\n",
       "      <td>...</td>\n",
       "      <td>...</td>\n",
       "    </tr>\n",
       "    <tr>\n",
       "      <th>2022-06-15</th>\n",
       "      <td>2</td>\n",
       "      <td>5.241607</td>\n",
       "      <td>1.0</td>\n",
       "      <td>NaN</td>\n",
       "    </tr>\n",
       "    <tr>\n",
       "      <th>2022-06-17</th>\n",
       "      <td>2</td>\n",
       "      <td>5.179372</td>\n",
       "      <td>2.5</td>\n",
       "      <td>NaN</td>\n",
       "    </tr>\n",
       "    <tr>\n",
       "      <th>2022-06-18</th>\n",
       "      <td>1</td>\n",
       "      <td>5.171086</td>\n",
       "      <td>1.0</td>\n",
       "      <td>NaN</td>\n",
       "    </tr>\n",
       "    <tr>\n",
       "      <th>2022-06-20</th>\n",
       "      <td>1</td>\n",
       "      <td>4.639069</td>\n",
       "      <td>1.0</td>\n",
       "      <td>NaN</td>\n",
       "    </tr>\n",
       "    <tr>\n",
       "      <th>2022-06-21</th>\n",
       "      <td>2</td>\n",
       "      <td>3.777636</td>\n",
       "      <td>2.5</td>\n",
       "      <td>NaN</td>\n",
       "    </tr>\n",
       "  </tbody>\n",
       "</table>\n",
       "<p>1168 rows × 4 columns</p>\n",
       "</div>"
      ],
      "text/plain": [
       "            review_count     upper  score  point\n",
       "date                                            \n",
       "2017-06-27             1       NaN    5.0    NaN\n",
       "2017-07-02             1       NaN    5.0    NaN\n",
       "2017-07-10             1       NaN    3.0    NaN\n",
       "2017-07-11             1       NaN    1.0    NaN\n",
       "2017-07-20             1       NaN    4.0    NaN\n",
       "...                  ...       ...    ...    ...\n",
       "2022-06-15             2  5.241607    1.0    NaN\n",
       "2022-06-17             2  5.179372    2.5    NaN\n",
       "2022-06-18             1  5.171086    1.0    NaN\n",
       "2022-06-20             1  4.639069    1.0    NaN\n",
       "2022-06-21             2  3.777636    2.5    NaN\n",
       "\n",
       "[1168 rows x 4 columns]"
      ]
     },
     "execution_count": 153,
     "metadata": {},
     "output_type": "execute_result"
    }
   ],
   "source": [
    "data"
   ]
  },
  {
   "cell_type": "code",
   "execution_count": 154,
   "metadata": {},
   "outputs": [
    {
     "data": {
      "text/plain": [
       "<matplotlib.collections.PathCollection at 0x20dd5f115c8>"
      ]
     },
     "execution_count": 154,
     "metadata": {},
     "output_type": "execute_result"
    },
    {
     "data": {
      "image/png": "[encoded data removed]",
      "text/plain": [
       "<Figure size 1080x1080 with 1 Axes>"
      ]
     },
     "metadata": {
      "needs_background": "light"
     },
     "output_type": "display_data"
    }
   ],
   "source": [
    "# when size = 20\n",
    "\n",
    "pd.set_option('display.max_rows', 92)\n",
    "\n",
    "plt.figure(figsize=(15,15))\n",
    "data['review_count'].plot()\n",
    "plt.scatter(data['point'].index, data['point'].values, s=30, c='red' )\n"
   ]
  },
  {
   "cell_type": "code",
   "execution_count": null,
   "metadata": {},
   "outputs": [],
   "source": []
  },
  {
   "cell_type": "code",
   "execution_count": null,
   "metadata": {},
   "outputs": [],
   "source": []
  },
  {
   "cell_type": "code",
   "execution_count": null,
   "metadata": {},
   "outputs": [],
   "source": []
  },
  {
   "cell_type": "code",
   "execution_count": null,
   "metadata": {},
   "outputs": [],
   "source": []
  },
  {
   "cell_type": "code",
   "execution_count": null,
   "metadata": {},
   "outputs": [],
   "source": []
  },
  {
   "cell_type": "code",
   "execution_count": null,
   "metadata": {},
   "outputs": [],
   "source": []
  },
  {
   "cell_type": "code",
   "execution_count": null,
   "metadata": {},
   "outputs": [],
   "source": []
  },
  {
   "cell_type": "code",
   "execution_count": 149,
   "metadata": {},
   "outputs": [
    {
     "data": {
      "text/plain": [
       "<matplotlib.collections.PathCollection at 0x20dd58013c8>"
      ]
     },
     "execution_count": 149,
     "metadata": {},
     "output_type": "execute_result"
    },
    {
     "data": {
      "image/png": "[encoded data removed]",
      "text/plain": [
       "<Figure size 1080x1080 with 1 Axes>"
      ]
     },
     "metadata": {
      "needs_background": "light"
     },
     "output_type": "display_data"
    }
   ],
   "source": [
    "# when size = 20\n",
    "\n",
    "pd.set_option('display.max_rows', 92)\n",
    "\n",
    "plt.figure(figsize=(15,15))\n",
    "data['review_count'].plot()\n",
    "plt.scatter(data['point'].index, data['point'].values, s=30, c='red' )\n"
   ]
  },
  {
   "cell_type": "code",
   "execution_count": 128,
   "metadata": {},
   "outputs": [
    {
     "data": {
      "text/plain": [
       "array(['최악의 오류 투성이 이거쓰다가 몇백만원 날아감 다들 정신차리세요 한두번 오류가 아닙니다',\n",
       "       '업데이트되면 매번 오류나. 테스트도 안해보고 배포하냐?그지같은 미래에셋.. 항상 이런식이냐? 미래에셋 조사해봐야한다. 항상 폭락장에 매수매도 안되게 해놓고 지들이 정리되면 11시쯤 정상화되는게...',\n",
       "       '버퍼링 겁나 걸리고, 공인 인증도 비밀번호 맞게쳐도 로그인 시간 초과됐다고만 계속뜨고, 전화상담 연결안되서 카톡상담안내 해주길래 카톡상담 했더니 글쓸때마다 상담원연결지연만 20번 넘게되고, 미래에셋 안쓰고 맙니다',\n",
       "       '장애 복구됐나요?? 님들?? 어떻게 되가나요?', '자주 시스템점검 떠요 그로인해 손해 막심',\n",
       "       '접속관련 소송 거시 분 안계신가요? 나쁜놈들',\n",
       "       '동시접속안내 창 뜨면서 종료되시는 오류 겪으시는 분은 없나요? 덕분에 좀 물렸네요 ㅎㅎ',\n",
       "       '매수 매도 시 로딩되면서 시간초과라고 계속 로딩시간만 잡아먹음~ 오늘 손해가 이만저만이 아니네요~결국 컴 켰음~',\n",
       "       '아니 응답시간 초과가 몇번이나 뜨는거임 ㅡㅡ 진짜 짜증나네요. 매도시간 놓치고 멉니가? 비번 혹시해서 바꿔봣더니 단말기 동시접속 떠서 자꾸 꺼지고 고객센터는 전화도 안받음ㅋㅋㅋㅋㅋㅋㅋ 어쩌라는거에요 지금?',\n",
       "       '뭐함 아니 아무것도 안되자나 수정 좀 해요', '현재 응답시간 초과 에러로 주식 매매를 할 수가 없네요.',\n",
       "       '매수가 안되네 이럴거면 업데이트는 왜 했을까 아 열받네',\n",
       "       '이거모야. mts장애로 지금 수억날리겠네. 단체 고소 준비합시다.',\n",
       "       '하ㅡㅡ진짜 짜증나네요 모바일 매도 매수 안되고 손해 책임은 누가해주나요?',\n",
       "       '야 빨리 안고치냐 계속 동시접속이라 팔지도 못하잖아', '이렇게 그지같은 앱음 첨범.. 다른데로 떠납니다',\n",
       "       '보상해도', '뭐냐 ㅆ 접속이 되야 뭘하지 야 내돈내놔',\n",
       "       '머야 진짜 매수 매도 전혀 안되구 전화도 안받구 욕나오네', '지금 통신장애 있네요.... 매수매도안되고 있습니다',\n",
       "       '매수 매도 버튼을 누르면 재접속되었습니다. 팝업이 되며 매수 매도 접수는 안되네요 .',\n",
       "       '주식앱이 매도매수가안되며 따로조취에대한 공지도없고 전화도 안받으면 배상은 어떻게해주시나요?',\n",
       "       '와 진짜 업데이트 왜한거야. 업데이트할때 마다 정말 삼성증권간다 안쓴다 다시는',\n",
       "       '계속 재접속 나는데 모하는겁니까?', '이게무신 증권회사라구 손해배상어쩔꺼냐',\n",
       "       '정말쓰레기 앱임. 매수 매도 하는데 계속 응답시간 초과됐다고 나오고 이용불가임', '무한 재접속 걸린다. 좀 고쳐요',\n",
       "       '쓰레기 거래가 안되네', '매수 매도가 안되면 어쩌라는건가요 보상해 주는건가요',\n",
       "       '장난하나 고객센터 전화도안되고 머여', '왜!오늘폰으로하는데렉만걸리고고객센터는전화도않받고!어떻게합니까?',\n",
       "       '진짜 화나거 억울하고 스트레스받음 최악의 MTS', '매도 매수 안됨',\n",
       "       '장난하는것도 아니고 주식매매가 안되면 어쩌자는건지', '앱 먹통중... 거래안됨. 손실큼',\n",
       "       '최악.. 하한가 가는데.. 매도는 되지도 않고.. 계속 재접속..',\n",
       "       '거래가 안되는 주식거래 어플 정말 대단하네요 UI깔끔해서 다른거 정리하고 쓸랬는데 거래하려니 이 중요한순간에 무한재접속합니다',\n",
       "       '와 이거 제정신으로 만든 앱인가요? 매도매수 안되요 어쩔거예요?', '매수매도가 안되어 큰 돈 날렸습니다...',\n",
       "       '뭐지 이건? 실시간으로 거래가 되도 모자랄판에 아예 거래 자체가 안되는 어플은 또 첨보네 재접속 되었습니다만 무한반복 중 갈아타라는 얘긴가....',\n",
       "       '매수매도안되고 고객센터전화도안되고 동시접속했다느니 채팅상담도안되고 손실오지네 털거털면사용안한다진짜',\n",
       "       '매도 누르면 엠스탁 로고 나오면서 재접속 했다고 하는데 그 다음부터 다시 매도 누르면 또 재접속을 위한 엠스탁 로고 뜨고... 언제 팔수있나요?',\n",
       "       '욕나오게 수익나온거 팔지도못하고 손해중이잖아ㅡㅡ', '주문이 안돼 내돈',\n",
       "       '매도 안됩니다 금전적인 피해가 심각합니다 고객센터 통화도 연결도 안되고 이거 어떡해야되나요 저같은분계시나요?',\n",
       "       '새로운 어플이 기존 어플보다 기능은 좋으나 숫자가 좀 커졌으면 합니다 보기가 기존보다 많이 불편합니다 예전에 미래에셋 어플때도 새롭게 바뀐어플이 불편하더만 하나같이 바뀐게 없군요 타 증권사 어플보고 참고했으면 합니디ㅡ',\n",
       "       '오늘 같은날 어플 먹통 뭐냐!!!!!!!!!!', '매수시 반복적으로 재접속되면서 거래가 이루어지지 않음.',\n",
       "       '매수가 안되네요..주식주문창 업데이트했다더니 그이후로 매수만 안되네요.. 계속 동시접속오류 뜨고..',\n",
       "       '왜 주식 매매가 안됩니까', '업데이트되고나서 계속 재접속 오류',\n",
       "       '아침부터 지금까지 로고만 계속나오고 제일 중요한 매수매도가 계속 안되고있어서 매수매도타이밍을 계속 놓치고 있어서 저로서는 자산피해가 심각합니다. 고객센터 전화안되고 wm에 연락하니 시스템장애땜에 그렇다는 말만 반복하고... 정말 실망이네요.',\n",
       "       \"주식기간 손익현황 일자별로 검색하면 한달정도 주기로 무한루프 돕니다.. 거래중에 랙 걸리거나 멈춰버리는 경우도 부지기수구요. 진짜 증권사 앱이 이정도로 엉망이어도 괜찮은건지 정말 모르겠네요!!.. 이건 정말 뭐하자는거죠? 앱이 접속되었다가도 계속 재접속 됐다면서 튕기고 거래는 하나도 안되고 고객센터 전화하면 연결 안되고 겨우 연결되면 통화량이 많아 안된다는데 이건 뭐... 장중에 아무것도 할수없이 돈 날아가는것만 지켜봐야 하는건가요?! 진짜 엉망진창이네!! 고객센터에 전화하니 '지금 고객님께서 응답할 수 없는 지역에 있습니다 ' 라는데 이건 뭐지???\",\n",
       "       '와 매수버튼 누르면 재접속뜨면서 매수 안되네요 ㅋㅋㅋㅋㅋㅋㅋㅋ 이런 경우 처음인데 진심 mts가 매수가 안되면 뭐하자는건지',\n",
       "       '나만 거래가 안되는게 아니었네요....주식어플은 신뢰성이 중요한데..이런 결함이 발생하면 정말치명적일듯 특히나 변동성 심한 오늘 장에... 개인 못팔게하고 기관들 오지게 팔려고그러나',\n",
       "       '다신안쓴다 갑자기 주문이안되네 하', '아 젠장 왜 매수매도가 안되녀고',\n",
       "       '오늘 공모주 snk 상장일인데 왜 먹통인가요? 매도를 못하고 있습니다. 손해보면 미래에셋대우에서 책임지세요.',\n",
       "       '거지같은 앱이다 중요한 순간에 접속 안되고 거래 무한대기뜨고 고객센터는 전화 안받는다',\n",
       "       '이 중요한 급등락 시점에 주문이 안되다니...', '이거 뭐하는거야 끄덕만하면 안되니',\n",
       "       '업데이트 할때마다 주문이 안되면 어떻하죠? 안정성에 심각한 결함이 있습니다',\n",
       "       '뭐져 왜 매도 주문 넣는데 매도가 안되고 로고만 나오다 멈추는 겁니까!! 왜 자꾸 재접속이라고 나와!타이밍 놓쳤자나!!',\n",
       "       '업데이트하시고, 테스트않하시나요... 정정취소 주문않되고 계속 재접속메세지뜨고, 거래를 할수가없네요...매번업데이트시마다 이러면 고객들은 어떻게 대응을해야하는걸까요.',\n",
       "       '오늘업데이트되고 왜이럽니까.. 아에먹통ㅡㅡ', '지금 매수 매도 거래 안됨 자꾸 재접속됩니다 빠른조치 바람',\n",
       "       '주문이 제대로 안되는 쓰레기 앱. 오늘 아침 주문이 몇번이나 되지도 않고 재접속되었다고만 뜨더라. 짜증나서 증권사 갈아타야하나.',\n",
       "       '다른 증권사앱도 이따윈가요? 그동안은 참고 살았는데 올해는 꼭 증권사 갈아탑니다.',\n",
       "       '매수매도 화면 통합업뎃하고 10분넘게 재접속하더니 정작 앱 종료하고 나니 사지냐 이 망할놈들아',\n",
       "       '작년10월에이어 오늘도 매매가 안된다. 최악의 증권사',\n",
       "       '매수창에 에러로 매수매도가 안되 손실중 업글하려면 제대로 해라',\n",
       "       '지금 매매해야되는데 계속 읽고만 있고 진척이 없네요.. 다른데 갈아타고싶네요',\n",
       "       '이번 업데이트 후 매수 걸면 자꾸 재접속하다 튕겨 버리네요. 도무지 사용할 수 없어져 버렸습니다.',\n",
       "       '거래를 해야하는데 자꾸에러나고 1588 6800 이건 통화도 안되고 참 답답하네요.1년에 한두번 꼭 이러는것 같네 열받아',\n",
       "       '별 하나도 아까움 매도매수가 안되네',\n",
       "       '매수 매도가 제때에 안돼요 환장ㅋㅋ 지금 한창 장중인데 삭제하고 다시깔려구요 매도가 안되고있어요',\n",
       "       '업뎃하자마자 또 접속불량 ㅡ ㅡ ㅋ 이정도면 개발팀이문제인듯',\n",
       "       '매수매도 안돼요 계속 재접속했다고만 뜨고 빨리고쳐주세요', '업데이트는왜또해가지고 취소주문이안되고난리 어휴진ㅋ자',\n",
       "       '쓰렉', '매도가안되잖아요 계속재접속뜨고 이거팔지도못하고 손해나는거 어떻게 책임질겁니까',\n",
       "       '아니 서버 또 터졌냐? 이 시간에 매수주문이 안들어가면 어쩌자는건데? 어떻게 피해보상할거냐',\n",
       "       '렉 때문에 같은 주문이 3개 들어 갔네요.. 삭제도 렉 땜에 안되고.. 머 이런..',\n",
       "       '2019 05 07 매수 매도시 무한 재접속시도로 인한 거래불가',\n",
       "       '매수 했는데 안 되길래 계속 눌렀더니 누른만큼 다 체결 돼서 아침부터 손실중입니다 취소도 안 돼서 체결 돼버리고 뭐하는건가요?',\n",
       "       '미래에셋증권 사용자로서 진심 어플구려서 타사로 옮기던가해야지. 진짜 담당자는 양심의 가책이 안느껴지는부분 ㄹㅇㅇㅈ??',\n",
       "       '접속이 안되 미치것네요',\n",
       "       '매수매도 좀 되게해주세요 아니 업데이트해서 주문시스템 업데이트했다해놓고 매수매도가 안되는건 머임? 사려해도 안사짐 ㅡㅡ^',\n",
       "       '정말 최악의HTS', '왜 매수매도 주문이 안 되냐고. 진짜 쓰레기..',\n",
       "       '장중에 수시로 멈추고 뭐하는건지! 한두번도 아니고', '어플이 이상해서 손해보는거 손 빨고 있잖아요',\n",
       "       '왜 업데이트 하고서 기능작동은 못하냐', '매수 매도도 안되는 머 이런!!',\n",
       "       '최악의 주식어플 동작도 느리고 접속도 안되고 쓰레기다.'], dtype=object)"
      ]
     },
     "execution_count": 128,
     "metadata": {},
     "output_type": "execute_result"
    }
   ],
   "source": [
    "df[df['at'] == '2019-05-07']['content'].values"
   ]
  },
  {
   "cell_type": "code",
   "execution_count": 97,
   "metadata": {},
   "outputs": [
    {
     "data": {
      "text/plain": [
       "array(['모바일로 계좌 개설했는데.. 타은행에 이체하려고 하니 보안코드를 넣으라고 하네요. 발급을 받지 않았는데 갑자기 코드 넣으라니 당황했네요. 지문이나 비밀번호로 이체되게 할 수는 없나요?',\n",
       "       '진짜 이전 M.stoc ㄱH쓰레기라 다른 증권사로 갈아타려고 했는데 이것도 최고는 아니지만 이전거 비하면 많이 좋아졌음!! 일단 키패드 반응속도와 로그인 간편화 및 로그인유지 좋아졌는데 다만 지문인증 로그인이 없는게 불편함!!'],\n",
       "      dtype=object)"
      ]
     },
     "execution_count": 97,
     "metadata": {},
     "output_type": "execute_result"
    }
   ],
   "source": [
    "df[df['at'] == '2017-11-14']['content'].values"
   ]
  },
  {
   "cell_type": "code",
   "execution_count": null,
   "metadata": {},
   "outputs": [],
   "source": []
  }
 ],
 "metadata": {
  "kernelspec": {
   "display_name": "Python 3",
   "language": "python",
   "name": "python3"
  },
  "language_info": {
   "codemirror_mode": {
    "name": "ipython",
    "version": 3
   },
   "file_extension": ".py",
   "mimetype": "text/x-python",
   "name": "python",
   "nbconvert_exporter": "python",
   "pygments_lexer": "ipython3",
   "version": "3.4.3"
  },
  "vscode": {
   "interpreter": {
    "hash": "dd048d6ddb51f4267c2f64ffc8a78e66ffee8cb77c88c55f683039d906eec157"
   }
  }
 },
 "nbformat": 4,
 "nbformat_minor": 2
}
