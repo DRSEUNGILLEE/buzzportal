{
 "cells": [
  {
   "cell_type": "code",
   "execution_count": 7,
   "id": "31a1ae3f",
   "metadata": {},
   "outputs": [
    {
     "name": "stderr",
     "output_type": "stream",
     "text": [
      "/tmp/ipykernel_85313/973934158.py:21: DeprecationWarning: executable_path has been deprecated, please pass in a Service object\n",
      "  browser = webdriver.Chrome('/home/buzzportal/crawling/chromedriver',options=chrome_options)\n"
     ]
    },
    {
     "ename": "PyperclipException",
     "evalue": "\n    Pyperclip could not find a copy/paste mechanism for your system.\n    For more information, please visit https://pyperclip.readthedocs.io/en/latest/index.html#not-implemented-error ",
     "output_type": "error",
     "traceback": [
      "\u001b[0;31m---------------------------------------------------------------------------\u001b[0m",
      "\u001b[0;31mPyperclipException\u001b[0m                        Traceback (most recent call last)",
      "Input \u001b[0;32mIn [7]\u001b[0m, in \u001b[0;36m<cell line: 42>\u001b[0;34m()\u001b[0m\n\u001b[1;32m     38\u001b[0m elem_id \u001b[38;5;241m=\u001b[39m browser\u001b[38;5;241m.\u001b[39mfind_element(By\u001b[38;5;241m.\u001b[39mNAME, \u001b[38;5;124m'\u001b[39m\u001b[38;5;124mid\u001b[39m\u001b[38;5;124m'\u001b[39m)\n\u001b[1;32m     40\u001b[0m elem_id\u001b[38;5;241m.\u001b[39mclick()\n\u001b[0;32m---> 42\u001b[0m \u001b[43mpyperclip\u001b[49m\u001b[38;5;241;43m.\u001b[39;49m\u001b[43mcopy\u001b[49m\u001b[43m(\u001b[49m\u001b[43muser_id\u001b[49m\u001b[43m)\u001b[49m\n\u001b[1;32m     44\u001b[0m elem_id\u001b[38;5;241m.\u001b[39msend_keys(Keys\u001b[38;5;241m.\u001b[39mCONTROL,\u001b[38;5;124m'\u001b[39m\u001b[38;5;124mv\u001b[39m\u001b[38;5;124m'\u001b[39m) \n\u001b[1;32m     46\u001b[0m time\u001b[38;5;241m.\u001b[39msleep(\u001b[38;5;241m1\u001b[39m)\n",
      "File \u001b[0;32m~/anaconda3/lib/python3.9/site-packages/pyperclip/__init__.py:659\u001b[0m, in \u001b[0;36mlazy_load_stub_copy\u001b[0;34m(text)\u001b[0m\n\u001b[1;32m    657\u001b[0m \u001b[38;5;28;01mglobal\u001b[39;00m copy, paste\n\u001b[1;32m    658\u001b[0m copy, paste \u001b[38;5;241m=\u001b[39m determine_clipboard()\n\u001b[0;32m--> 659\u001b[0m \u001b[38;5;28;01mreturn\u001b[39;00m \u001b[43mcopy\u001b[49m\u001b[43m(\u001b[49m\u001b[43mtext\u001b[49m\u001b[43m)\u001b[49m\n",
      "File \u001b[0;32m~/anaconda3/lib/python3.9/site-packages/pyperclip/__init__.py:336\u001b[0m, in \u001b[0;36minit_no_clipboard.<locals>.ClipboardUnavailable.__call__\u001b[0;34m(self, *args, **kwargs)\u001b[0m\n\u001b[1;32m    335\u001b[0m \u001b[38;5;28;01mdef\u001b[39;00m \u001b[38;5;21m__call__\u001b[39m(\u001b[38;5;28mself\u001b[39m, \u001b[38;5;241m*\u001b[39margs, \u001b[38;5;241m*\u001b[39m\u001b[38;5;241m*\u001b[39mkwargs):\n\u001b[0;32m--> 336\u001b[0m     \u001b[38;5;28;01mraise\u001b[39;00m PyperclipException(EXCEPT_MSG)\n",
      "\u001b[0;31mPyperclipException\u001b[0m: \n    Pyperclip could not find a copy/paste mechanism for your system.\n    For more information, please visit https://pyperclip.readthedocs.io/en/latest/index.html#not-implemented-error "
     ]
    }
   ],
   "source": [
    "from selenium import webdriver\n",
    "from time import sleep\n",
    "from bs4 import BeautifulSoup\n",
    "import pandas as pd \n",
    "import pyperclip\n",
    "from selenium.webdriver.common.keys import Keys\n",
    "from lxml import html \n",
    "from selenium.webdriver.support.ui import WebDriverWait\n",
    "from selenium.webdriver.common.by import By\n",
    "from selenium.webdriver.support import expected_conditions as EC\n",
    "\n",
    "chrome_options = webdriver.ChromeOptions()\n",
    "chrome_options.add_argument('--headless')\n",
    "chrome_options.add_argument('--no-sandbox')\n",
    "chrome_options.add_argument(\"--single-process\")\n",
    "chrome_options.add_argument(\"--disable-dev-shm-usage\")\n",
    "chrome_options.add_argument(\"--log-level=3\")\n",
    "chrome_options.add_argument('--disable-logging')\n",
    "\n",
    "#browser = webdriver.Remote('http://127.0.0.1:9515/wd/hub', DesiredCapabilities.CHROME, options=chrome_options) \n",
    "browser = webdriver.Chrome('/home/buzzportal/crawling/chromedriver',options=chrome_options)\n",
    "\n",
    "\n",
    "user_id = 'mirae_hajung' \n",
    "user_pw = 'Mirae123!' \n",
    "\n",
    "\n",
    "\n",
    "url = \"https://nid.naver.com/nidlogin.login?mode=form&url=https%3A%2F%2Fwww.naver.com\"\n",
    "browser.get(url)\n",
    "\n",
    "sleep(3)\n",
    "\n",
    "\n",
    "\n",
    "# 3. id 복사 붙여넣기 \n",
    "\n",
    "elem_id = browser.find_element(By.NAME, 'id')\n",
    "\n",
    "elem_id.click()\n",
    "\n",
    "pyperclip.copy(user_id)\n",
    "\n",
    "elem_id.send_keys(Keys.CONTROL,'v') \n",
    "\n",
    "time.sleep(1)\n",
    "\n",
    "\n",
    "\n",
    "# 4. pw 복사 붙여넣기 \n",
    "\n",
    "elem_pw = browser.find_element(By.NAME,'pw')\n",
    "\n",
    "elem_pw.click()\n",
    "\n",
    "pyperclip.copy(user_pw)\n",
    "\n",
    "elem_pw.send_keys(Keys.CONTROL,'v') \n",
    "\n",
    "time.sleep(1)\n",
    "\n",
    "\n",
    "\n",
    "# 5. 로그인 버튼 클릭 \n",
    "\n",
    "browser.find_element_by_id('log.login').click()\n",
    "\n",
    "sleep(3)\n",
    "\n"
   ]
  },
  {
   "cell_type": "code",
   "execution_count": 15,
   "id": "c4d6df3d",
   "metadata": {
    "scrolled": true
   },
   "outputs": [
    {
     "name": "stderr",
     "output_type": "stream",
     "text": [
      "/tmp/ipykernel_85313/4007675256.py:3: DeprecationWarning: executable_path has been deprecated, please pass in a Service object\n",
      "  browser = webdriver.Chrome('/home/buzzportal/crawling/chromedriver',options=chrome_options)\n"
     ]
    }
   ],
   "source": [
    "import time \n",
    "naver_url = 'https://nid.naver.com/nidlogin.login?ln=ko-KR'\n",
    "browser = webdriver.Chrome('/home/buzzportal/crawling/chromedriver',options=chrome_options)\n",
    "\n",
    "time.sleep(1)\n",
    "browser.get(naver_url)\n",
    "time.sleep(1)\n",
    "\n",
    "userid = 'mirae_hajung'\n",
    "userpw = 'Mirae123!'\n",
    "\n",
    "# #로그인 클릭\n",
    "# browser.find_element(By.XPATH, '//*[@id=\"account\"]/a').click()\n",
    "# time.sleep(1)\n",
    "\n",
    "#아이디 입력\n",
    "browser.find_element(By.XPATH, '//*[@id=\"id\"]').send_keys(userid)\n",
    "time.sleep(1)\n",
    "\n",
    "#비밀번호 입력\n",
    "browser.find_element(By.XPATH, '//*[@id=\"pw\"]').send_keys(userpw)\n",
    "time.sleep(1)\n",
    "\n",
    "#로그인 버튼 클릭\n",
    "browser.find_element(By.XPATH, '//*[@id=\"log.login\"]').click()\n",
    "time.sleep(1)"
   ]
  },
  {
   "cell_type": "code",
   "execution_count": 16,
   "id": "79420794",
   "metadata": {},
   "outputs": [],
   "source": [
    "html = browser.execute_script(\"return document.getElementsByTagName('html')[0].innerHTML\")"
   ]
  },
  {
   "cell_type": "code",
   "execution_count": 17,
   "id": "7e07aab8",
   "metadata": {},
   "outputs": [],
   "source": [
    "with open(\"sel.html\", 'w') as f:\n",
    "    f.write(html)"
   ]
  },
  {
   "cell_type": "code",
   "execution_count": 18,
   "id": "3bd83951",
   "metadata": {},
   "outputs": [
    {
     "ename": "ElementNotInteractableException",
     "evalue": "Message: element not interactable\n  (Session info: headless chrome=106.0.5249.61)\nStacktrace:\n#0 0x5585ec1f72c3 <unknown>\n#1 0x5585ec000700 <unknown>\n#2 0x5585ec033d1e <unknown>\n#3 0x5585ec0332c4 <unknown>\n#4 0x5585ec057f42 <unknown>\n#5 0x5585ec02e073 <unknown>\n#6 0x5585ec0580ae <unknown>\n#7 0x5585ec06fa50 <unknown>\n#8 0x5585ec057d63 <unknown>\n#9 0x5585ec02c7e3 <unknown>\n#10 0x5585ec02da21 <unknown>\n#11 0x5585ec24518e <unknown>\n#12 0x5585ec248622 <unknown>\n#13 0x5585ec22baae <unknown>\n#14 0x5585ec2492a3 <unknown>\n#15 0x5585ec21fecf <unknown>\n#16 0x5585ec269588 <unknown>\n#17 0x5585ec269706 <unknown>\n#18 0x5585ec2838b2 <unknown>\n#19 0x7f47d5ba9609 <unknown>\n",
     "output_type": "error",
     "traceback": [
      "\u001b[0;31m---------------------------------------------------------------------------\u001b[0m",
      "\u001b[0;31mElementNotInteractableException\u001b[0m           Traceback (most recent call last)",
      "Input \u001b[0;32mIn [18]\u001b[0m, in \u001b[0;36m<cell line: 7>\u001b[0;34m()\u001b[0m\n\u001b[1;32m      5\u001b[0m \u001b[38;5;66;03m#답입력\u001b[39;00m\n\u001b[1;32m      6\u001b[0m answer \u001b[38;5;241m=\u001b[39m \u001b[38;5;124m\"\u001b[39m\u001b[38;5;124m20000\u001b[39m\u001b[38;5;124m\"\u001b[39m\n\u001b[0;32m----> 7\u001b[0m \u001b[43mbrowser\u001b[49m\u001b[38;5;241;43m.\u001b[39;49m\u001b[43mfind_element\u001b[49m\u001b[43m(\u001b[49m\u001b[43mBy\u001b[49m\u001b[38;5;241;43m.\u001b[39;49m\u001b[43mXPATH\u001b[49m\u001b[43m,\u001b[49m\u001b[43m \u001b[49m\u001b[38;5;124;43m'\u001b[39;49m\u001b[38;5;124;43m/html/body/div[1]/div[2]/div/div[1]/form/ul/li/div/div[3]/div[1]/div/div[2]\u001b[39;49m\u001b[38;5;124;43m'\u001b[39;49m\u001b[43m)\u001b[49m\u001b[38;5;241;43m.\u001b[39;49m\u001b[43msend_keys\u001b[49m\u001b[43m(\u001b[49m\u001b[43manswer\u001b[49m\u001b[43m)\u001b[49m\n\u001b[1;32m      8\u001b[0m time\u001b[38;5;241m.\u001b[39msleep(\u001b[38;5;241m1\u001b[39m)\n\u001b[1;32m     10\u001b[0m \u001b[38;5;66;03m#로그인 버튼 클릭\u001b[39;00m\n",
      "File \u001b[0;32m~/anaconda3/lib/python3.9/site-packages/selenium/webdriver/remote/webelement.py:223\u001b[0m, in \u001b[0;36mWebElement.send_keys\u001b[0;34m(self, *value)\u001b[0m\n\u001b[1;32m    220\u001b[0m             remote_files\u001b[38;5;241m.\u001b[39mappend(\u001b[38;5;28mself\u001b[39m\u001b[38;5;241m.\u001b[39m_upload(file))\n\u001b[1;32m    221\u001b[0m         value \u001b[38;5;241m=\u001b[39m \u001b[38;5;124m'\u001b[39m\u001b[38;5;130;01m\\n\u001b[39;00m\u001b[38;5;124m'\u001b[39m\u001b[38;5;241m.\u001b[39mjoin(remote_files)\n\u001b[0;32m--> 223\u001b[0m \u001b[38;5;28;43mself\u001b[39;49m\u001b[38;5;241;43m.\u001b[39;49m\u001b[43m_execute\u001b[49m\u001b[43m(\u001b[49m\u001b[43mCommand\u001b[49m\u001b[38;5;241;43m.\u001b[39;49m\u001b[43mSEND_KEYS_TO_ELEMENT\u001b[49m\u001b[43m,\u001b[49m\n\u001b[1;32m    224\u001b[0m \u001b[43m              \u001b[49m\u001b[43m{\u001b[49m\u001b[38;5;124;43m'\u001b[39;49m\u001b[38;5;124;43mtext\u001b[39;49m\u001b[38;5;124;43m'\u001b[39;49m\u001b[43m:\u001b[49m\u001b[43m \u001b[49m\u001b[38;5;124;43m\"\u001b[39;49m\u001b[38;5;124;43m\"\u001b[39;49m\u001b[38;5;241;43m.\u001b[39;49m\u001b[43mjoin\u001b[49m\u001b[43m(\u001b[49m\u001b[43mkeys_to_typing\u001b[49m\u001b[43m(\u001b[49m\u001b[43mvalue\u001b[49m\u001b[43m)\u001b[49m\u001b[43m)\u001b[49m\u001b[43m,\u001b[49m\n\u001b[1;32m    225\u001b[0m \u001b[43m               \u001b[49m\u001b[38;5;124;43m'\u001b[39;49m\u001b[38;5;124;43mvalue\u001b[39;49m\u001b[38;5;124;43m'\u001b[39;49m\u001b[43m:\u001b[49m\u001b[43m \u001b[49m\u001b[43mkeys_to_typing\u001b[49m\u001b[43m(\u001b[49m\u001b[43mvalue\u001b[49m\u001b[43m)\u001b[49m\u001b[43m}\u001b[49m\u001b[43m)\u001b[49m\n",
      "File \u001b[0;32m~/anaconda3/lib/python3.9/site-packages/selenium/webdriver/remote/webelement.py:396\u001b[0m, in \u001b[0;36mWebElement._execute\u001b[0;34m(self, command, params)\u001b[0m\n\u001b[1;32m    394\u001b[0m     params \u001b[38;5;241m=\u001b[39m {}\n\u001b[1;32m    395\u001b[0m params[\u001b[38;5;124m'\u001b[39m\u001b[38;5;124mid\u001b[39m\u001b[38;5;124m'\u001b[39m] \u001b[38;5;241m=\u001b[39m \u001b[38;5;28mself\u001b[39m\u001b[38;5;241m.\u001b[39m_id\n\u001b[0;32m--> 396\u001b[0m \u001b[38;5;28;01mreturn\u001b[39;00m \u001b[38;5;28;43mself\u001b[39;49m\u001b[38;5;241;43m.\u001b[39;49m\u001b[43m_parent\u001b[49m\u001b[38;5;241;43m.\u001b[39;49m\u001b[43mexecute\u001b[49m\u001b[43m(\u001b[49m\u001b[43mcommand\u001b[49m\u001b[43m,\u001b[49m\u001b[43m \u001b[49m\u001b[43mparams\u001b[49m\u001b[43m)\u001b[49m\n",
      "File \u001b[0;32m~/anaconda3/lib/python3.9/site-packages/selenium/webdriver/remote/webdriver.py:429\u001b[0m, in \u001b[0;36mWebDriver.execute\u001b[0;34m(self, driver_command, params)\u001b[0m\n\u001b[1;32m    427\u001b[0m response \u001b[38;5;241m=\u001b[39m \u001b[38;5;28mself\u001b[39m\u001b[38;5;241m.\u001b[39mcommand_executor\u001b[38;5;241m.\u001b[39mexecute(driver_command, params)\n\u001b[1;32m    428\u001b[0m \u001b[38;5;28;01mif\u001b[39;00m response:\n\u001b[0;32m--> 429\u001b[0m     \u001b[38;5;28;43mself\u001b[39;49m\u001b[38;5;241;43m.\u001b[39;49m\u001b[43merror_handler\u001b[49m\u001b[38;5;241;43m.\u001b[39;49m\u001b[43mcheck_response\u001b[49m\u001b[43m(\u001b[49m\u001b[43mresponse\u001b[49m\u001b[43m)\u001b[49m\n\u001b[1;32m    430\u001b[0m     response[\u001b[38;5;124m'\u001b[39m\u001b[38;5;124mvalue\u001b[39m\u001b[38;5;124m'\u001b[39m] \u001b[38;5;241m=\u001b[39m \u001b[38;5;28mself\u001b[39m\u001b[38;5;241m.\u001b[39m_unwrap_value(\n\u001b[1;32m    431\u001b[0m         response\u001b[38;5;241m.\u001b[39mget(\u001b[38;5;124m'\u001b[39m\u001b[38;5;124mvalue\u001b[39m\u001b[38;5;124m'\u001b[39m, \u001b[38;5;28;01mNone\u001b[39;00m))\n\u001b[1;32m    432\u001b[0m     \u001b[38;5;28;01mreturn\u001b[39;00m response\n",
      "File \u001b[0;32m~/anaconda3/lib/python3.9/site-packages/selenium/webdriver/remote/errorhandler.py:243\u001b[0m, in \u001b[0;36mErrorHandler.check_response\u001b[0;34m(self, response)\u001b[0m\n\u001b[1;32m    241\u001b[0m         alert_text \u001b[38;5;241m=\u001b[39m value[\u001b[38;5;124m'\u001b[39m\u001b[38;5;124malert\u001b[39m\u001b[38;5;124m'\u001b[39m]\u001b[38;5;241m.\u001b[39mget(\u001b[38;5;124m'\u001b[39m\u001b[38;5;124mtext\u001b[39m\u001b[38;5;124m'\u001b[39m)\n\u001b[1;32m    242\u001b[0m     \u001b[38;5;28;01mraise\u001b[39;00m exception_class(message, screen, stacktrace, alert_text)  \u001b[38;5;66;03m# type: ignore[call-arg]  # mypy is not smart enough here\u001b[39;00m\n\u001b[0;32m--> 243\u001b[0m \u001b[38;5;28;01mraise\u001b[39;00m exception_class(message, screen, stacktrace)\n",
      "\u001b[0;31mElementNotInteractableException\u001b[0m: Message: element not interactable\n  (Session info: headless chrome=106.0.5249.61)\nStacktrace:\n#0 0x5585ec1f72c3 <unknown>\n#1 0x5585ec000700 <unknown>\n#2 0x5585ec033d1e <unknown>\n#3 0x5585ec0332c4 <unknown>\n#4 0x5585ec057f42 <unknown>\n#5 0x5585ec02e073 <unknown>\n#6 0x5585ec0580ae <unknown>\n#7 0x5585ec06fa50 <unknown>\n#8 0x5585ec057d63 <unknown>\n#9 0x5585ec02c7e3 <unknown>\n#10 0x5585ec02da21 <unknown>\n#11 0x5585ec24518e <unknown>\n#12 0x5585ec248622 <unknown>\n#13 0x5585ec22baae <unknown>\n#14 0x5585ec2492a3 <unknown>\n#15 0x5585ec21fecf <unknown>\n#16 0x5585ec269588 <unknown>\n#17 0x5585ec269706 <unknown>\n#18 0x5585ec2838b2 <unknown>\n#19 0x7f47d5ba9609 <unknown>\n"
     ]
    }
   ],
   "source": [
    "#비밀번호 입력\n",
    "browser.find_element(By.XPATH, '//*[@id=\"pw\"]').send_keys(userpw)\n",
    "time.sleep(1)\n",
    "\n",
    "#답입력\n",
    "answer = \"20000\"\n",
    "browser.find_element(By.XPATH, '/html/body/div[1]/div[2]/div/div[1]/form/ul/li/div/div[3]/div[1]/div/div[2]').send_keys(answer)\n",
    "time.sleep(1)\n",
    "\n",
    "#로그인 버튼 클릭\n",
    "browser.find_element(By.XPATH, '/html/body/div[1]/div[2]/div/div[1]/form/ul/li/div/div[9]/button/span').click()\n",
    "time.sleep(1)"
   ]
  },
  {
   "cell_type": "code",
   "execution_count": null,
   "id": "cce0c477",
   "metadata": {},
   "outputs": [],
   "source": []
  }
 ],
 "metadata": {
  "kernelspec": {
   "display_name": "Python 3 (ipykernel)",
   "language": "python",
   "name": "python3"
  },
  "language_info": {
   "codemirror_mode": {
    "name": "ipython",
    "version": 3
   },
   "file_extension": ".py",
   "mimetype": "text/x-python",
   "name": "python",
   "nbconvert_exporter": "python",
   "pygments_lexer": "ipython3",
   "version": "3.9.12"
  }
 },
 "nbformat": 4,
 "nbformat_minor": 5
}
