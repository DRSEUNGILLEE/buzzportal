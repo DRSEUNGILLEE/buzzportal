{
 "cells": [
  {
   "cell_type": "code",
   "execution_count": 1,
   "id": "eac98c1a",
   "metadata": {},
   "outputs": [
    {
     "name": "stderr",
     "output_type": "stream",
     "text": [
      "/tmp/ipykernel_4025916/138885907.py:39: DeprecationWarning: executable_path has been deprecated, please pass in a Service object\n",
      "  browser = webdriver.Chrome('/home/buzzportal/crawling/chromedriver',options=chrome_options)\n"
     ]
    }
   ],
   "source": [
    "from selenium import webdriver \n",
    "from selenium.webdriver.common.desired_capabilities import DesiredCapabilities \n",
    "from time import sleep\n",
    "from dateutil.relativedelta import relativedelta as rd\n",
    "import time\n",
    "from bs4 import BeautifulSoup\n",
    "import pandas as pd\n",
    "import logging\n",
    "from selenium.webdriver.remote.remote_connection import LOGGER\n",
    "LOGGER.setLevel(logging.WARNING)\n",
    "from lxml import etree\n",
    "from bs4 import BeautifulSoup\n",
    "import pandas as pd \n",
    "from selenium.webdriver.common.keys import Keys\n",
    "from lxml import html \n",
    "from io import StringIO\n",
    "from selenium.webdriver.support.ui import WebDriverWait\n",
    "from selenium.webdriver.common.by import By\n",
    "from selenium.webdriver.support import expected_conditions as EC\n",
    "import requests\n",
    "import json\n",
    "\n",
    "user_id = 'miraeguest' \n",
    "user_pw = '955641' \n",
    "\n",
    "\n",
    "headers = {'User-Agent' : 'Mozilla/5.0 (Macintosh; Intel Mac OS X 10_14_6) AppleWebKit/537.36 (KHTML, like Gecko) Chrome/80.0.39.132 Safari/53.36'}\n",
    "\n",
    "\n",
    "chrome_options = webdriver.ChromeOptions()\n",
    "chrome_options.add_argument('--headless')\n",
    "chrome_options.add_argument('--no-sandbox')\n",
    "chrome_options.add_argument(\"--single-process\")\n",
    "chrome_options.add_argument(\"--disable-dev-shm-usage\")\n",
    "chrome_options.add_argument(\"--log-level=3\")\n",
    "chrome_options.add_argument('--disable-logging')\n",
    "\n",
    "#browser = webdriver.Remote('http://127.0.0.1:9515/wd/hub', DesiredCapabilities.CHROME, options=chrome_options) \n",
    "browser = webdriver.Chrome('/home/buzzportal/crawling/chromedriver',options=chrome_options)\n",
    "\n",
    "url = \"https://mirae-rpa.some.co.kr/login.html\"\n",
    "browser.get(url)\n",
    "\n",
    "\n",
    "# 3. id 복사 붙여넣기 \n",
    "elem_id = browser.find_element(By.NAME, 'username')\n",
    "# elem_id.click()\n",
    "# pyperclip.copy(user_id)\n",
    "elem_id.send_keys(user_id) \n",
    "\n",
    "time.sleep(1)\n",
    "\n",
    "\n",
    "# 4. pw 복사 붙여넣기 \n",
    "elem_pw = browser.find_element(By.NAME, 'password')\n",
    "# elem_pw.click()\n",
    "# pyperclip.copy(user_pw)\n",
    "elem_pw.send_keys(user_pw) \n",
    "\n",
    "time.sleep(1)\n",
    "\n",
    "\n",
    "\n",
    "# 5. 로그인 버튼 클릭 \n",
    "#browser.find_element_by_link_text('로그인').click()\n",
    "browser.find_element(By.XPATH, \"/html/body/div/div/div/div/div[2]/form/div[2]/a\").click()\n",
    "time.sleep(3)\n",
    "html = browser.execute_script(\"return document.getElementsByTagName('html')[0].innerHTML\")   \n",
    "tree = etree.parse(StringIO(html),parser = etree.HTMLParser()) \n",
    "\n",
    "num = 200\n",
    "\n",
    "URL = \"https://mirae-rpa.some.co.kr/api/access_report_list?page=1&limit={}&templateId=&title=&isOwner=false&grpSeqs=\".format(str(num))    \n",
    "browser.get(URL)\n",
    "report_info = browser.find_element(By.XPATH, '/html/body/pre').text\n",
    "cont_all = json.loads(report_info)\n",
    "#print(len(cont_all['data']['list']))\n",
    "\n",
    "titles = []\n",
    "urls = []\n",
    "for el in cont_all['data']['list']:\n",
    "    ti = el['title']\n",
    "    rid = el['report_id']\n",
    "    url = \"https://mirae-rpa.some.co.kr/report.html?report_id={}\".format(rid)\n",
    "    titles.append(ti)\n",
    "    urls.append(url)"
   ]
  },
  {
   "cell_type": "code",
   "execution_count": null,
   "id": "57e68774",
   "metadata": {},
   "outputs": [],
   "source": []
  },
  {
   "cell_type": "code",
   "execution_count": null,
   "id": "4efd4688",
   "metadata": {},
   "outputs": [],
   "source": [
    "uu = \"https://cafe.daum.net/_c21_/cafesearch?grpid=3Vb&fldid=&pagenum=2&listnum=20&item=subject&head=&query=%EB%AF%B8%EB%9E%98%EC%97%90%EC%85%8B&attachfile_yn=&media_info=&viewtype=&searchPeriod=&sorttype=0&nickname=\""
   ]
  },
  {
   "cell_type": "code",
   "execution_count": null,
   "id": "64c492da",
   "metadata": {},
   "outputs": [],
   "source": []
  },
  {
   "cell_type": "code",
   "execution_count": 5,
   "id": "8ec7795d",
   "metadata": {},
   "outputs": [
    {
     "data": {
      "text/plain": [
       "[]"
      ]
     },
     "execution_count": 5,
     "metadata": {},
     "output_type": "execute_result"
    }
   ],
   "source": [
    "item"
   ]
  },
  {
   "cell_type": "code",
   "execution_count": null,
   "id": "ca7e7457",
   "metadata": {},
   "outputs": [],
   "source": [
    "for url in urls:\n",
    "    print(url)\n",
    "    browser.get(url)\n",
    "    time.sleep(2)\n",
    "    html = browser.execute_script(\"return document.getElementsByTagName('html')[0].innerHTML\")   \n",
    "    time.sleep(3)\n",
    "    tree = etree.parse(StringIO(html),parser = etree.HTMLParser())     \n",
    "\n",
    "\n",
    "    item = tree.xpath('/html/body/div[1]/div/div/div[1]/div/div/h1/a/text()')\n",
    "\n",
    "    if len(item) == 0:\n",
    "        print(\"시장 읽어주는 AI\")\n",
    "        continue\n",
    "        "
   ]
  },
  {
   "cell_type": "code",
   "execution_count": null,
   "id": "3919b5ee",
   "metadata": {},
   "outputs": [],
   "source": [
    "url = \"https://mirae-rpa.some.co.kr/report.html?report_id=1_2146\"\n",
    "browser.get(url)\n",
    "time.sleep(2)\n",
    "html = browser.execute_script(\"return document.getElementsByTagName('html')[0].innerHTML\")   \n",
    "time.sleep(3)\n",
    "tree = etree.parse(StringIO(html),parser = etree.HTMLParser())"
   ]
  },
  {
   "cell_type": "code",
   "execution_count": 2,
   "id": "62248da3",
   "metadata": {},
   "outputs": [
    {
     "ename": "SyntaxError",
     "evalue": "invalid syntax (2747129401.py, line 15)",
     "output_type": "error",
     "traceback": [
      "\u001b[0;36m  Input \u001b[0;32mIn [2]\u001b[0;36m\u001b[0m\n\u001b[0;31m    sent_1, sent_2, sent_3,  =\u001b[0m\n\u001b[0m                               ^\u001b[0m\n\u001b[0;31mSyntaxError\u001b[0m\u001b[0;31m:\u001b[0m invalid syntax\n"
     ]
    }
   ],
   "source": [
    "item = tree.xpath(\"/html/body/div[1]/div/div/div[4]/div/div/ul/li[1]/button/p[2]\")[0].text\n",
    "kospi = item.strip()\n",
    "\n",
    "item = tree.xpath(\"/html/body/div[1]/div/div/div[4]/div/div/ul/li[2]/button/p[2]\")[0].text\n",
    "kosdaq = item.strip()\n",
    "\n",
    "item = tree.xpath(\"/html/body/div[1]/div/div/div[4]/div/div/ul/li[3]/button/p[2]\")[0].text\n",
    "snp = item.strip()\n",
    "\n",
    "item = tree.xpath(\"/html/body/div[1]/div/div/div[4]/div/div/ul/li[4]/button/p[2]\")[0].text\n",
    "nasdaq = item.strip()\n",
    "\n",
    "titles = []\n",
    "contents = []\n",
    "sents = []\n",
    "\n",
    "\n",
    "for i in range(1,13):\n",
    "    item = tree.xpath(\"/html/body/div[1]/div/div/div[5]/div/div/ul/li[{}]/div[1]/a/h6\".format(str(i)))[0].text\n",
    "    titles.append(item.strip())\n",
    "\n",
    "    item = tree.xpath(\"/html/body/div[1]/div/div/div[5]/div/div/ul/li[{}]/div[1]/a/p[1]\".format(str(i)))[0].text\n",
    "    contents.append(item.strip())\n",
    "\n",
    "    item = tree.xpath(\"/html/body/div[1]/div/div/div[5]/div/div/ul/li[{}]/div[2]/p\".format(str(i)))[0].text\n",
    "    sents.append(item.strip())\n",
    "\n",
    "\n",
    "# 투자심리상위\n",
    "item = tree.xpath(\"/html/body/div[1]/div/div/div[8]/div/div/div[2]/ul[1]/li[2]/h6\")[0].text\n",
    "pos_1 = item.strip()\n",
    "\n",
    "item = tree.xpath(\"/html/body/div[1]/div/div/div[8]/div/div/div[2]/ul[1]/li[3]/h6\")[0].text\n",
    "pos_2 = item.strip()\n",
    "\n",
    "item = tree.xpath(\"/html/body/div[1]/div/div/div[8]/div/div/div[2]/ul[1]/li[4]/h6\")[0].text\n",
    "pos_3 = item.strip()\n",
    "\n",
    "item = tree.xpath(\"/html/body/div[1]/div/div/div[8]/div/div/div[2]/ul[1]/li[2]/p\")[0].text\n",
    "pos_s_1 = item.strip()\n",
    "\n",
    "item = tree.xpath(\"/html/body/div[1]/div/div/div[8]/div/div/div[2]/ul[1]/li[3]/p\")[0].text\n",
    "pos_s_2 = item.strip()\n",
    "\n",
    "item = tree.xpath(\"/html/body/div[1]/div/div/div[8]/div/div/div[2]/ul[1]/li[4]/p\")[0].text\n",
    "pos_s_3 = item.strip()\n",
    "\n",
    "item = tree.xpath(\"/html/body/div[1]/div/div/div[8]/div/div/div[2]/ul[2]/li[2]/h6\")[0].text\n",
    "neg_1 = item.strip()\n",
    "\n",
    "item = tree.xpath(\"/html/body/div[1]/div/div/div[8]/div/div/div[2]/ul[3]/li[2]/h6\")[0].text\n",
    "neg_2 = item.strip()\n",
    "\n",
    "item = tree.xpath(\"/html/body/div[1]/div/div/div[8]/div/div/div[2]/ul[4]/li[2]/h6\")[0].text\n",
    "neg_3 = item.strip()\n",
    "\n",
    "item = tree.xpath(\"/html/body/div[1]/div/div/div[8]/div/div/div[2]/ul[2]/li[2]/p\")[0].text\n",
    "neg_s_1 = item.strip()\n",
    "\n",
    "item = tree.xpath(\"/html/body/div[1]/div/div/div[8]/div/div/div[2]/ul[3]/li[2]/p\")[0].text\n",
    "neg_s_2 = item.strip()\n",
    "\n",
    "item = tree.xpath(\"/html/body/div[1]/div/div/div[8]/div/div/div[2]/ul[4]/li[2]/p\")[0].text\n",
    "neg_s_3 = item.strip()\n",
    "\n",
    "#오늘의 상위 테마\n",
    "item = tree.xpath(\"/html/body/div[1]/div/div/div[10]/div/div/div[2]/div[1]/div[1]/div/div/div/svg/g/g[2]/g[1]/g/g/g/g/g/g[3]/g/g/g/g[2]/g/g[3]/g/text/tspan\")[0].text\n",
    "theme_1 = item.strip()\n",
    "\n",
    "item = tree.xpath(\"/html/body/div[1]/div/div/div[10]/div/div/div[2]/div[1]/div[1]/div/div/div/svg/g/g[2]/g[1]/g/g/g/g/g/g[3]/g/g/g/g[2]/g/g[4]/g/text/tspan\")[0].text\n",
    "theme_2 = item.strip()\n",
    "\n",
    "item = tree.xpath(\"/html/body/div[1]/div/div/div[10]/div/div/div[2]/div[1]/div[1]/div/div/div/svg/g/g[2]/g[1]/g/g/g/g/g/g[3]/g/g/g/g[2]/g/g[5]/g/text/tspan\")[0].text\n",
    "theme_3 = item.strip()\n",
    "\n",
    "item = tree.xpath(\"/html/body/div[1]/div/div/div[10]/div/div/div[2]/div[1]/div[1]/div/div/div/svg/g/g[2]/g[1]/g/g/g/g/g/g[3]/g/g/g/g[2]/g/g[6]/g/text/tspan\")[0].text\n",
    "theme_4 = item.strip()\n",
    "\n",
    "item = tree.xpath(\"/html/body/div[1]/div/div/div[10]/div/div/div[2]/div[1]/div[1]/div/div/div/svg/g/g[2]/g[1]/g/g/g/g/g/g[1]/g/g[1]/g[2]/g[4]/g/g/g/g[2]/g/g/g[2]/text/tspan\")[0].text\n",
    "theme_s_1 = item.strip()\n",
    "\n",
    "item = tree.xpath(\"/html/body/div[1]/div/div/div[10]/div/div/div[2]/div[1]/div[1]/div/div/div/svg/g/g[2]/g[1]/g/g/g/g/g/g[1]/g/g[1]/g[2]/g[4]/g/g/g/g[4]/g/g/g[2]/text/tspan\")[0].text\n",
    "theme_s_2 = item.strip()\n",
    "\n",
    "item = tree.xpath(\"/html/body/div[1]/div/div/div[10]/div/div/div[2]/div[1]/div[1]/div/div/div/svg/g/g[2]/g[1]/g/g/g/g/g/g[1]/g/g[1]/g[2]/g[4]/g/g/g/g[6]/g/g/g[2]/text/tspan\")[0].text\n",
    "theme_s_3 = item.strip()\n",
    "\n",
    "item = tree.xpath(\"/html/body/div[1]/div/div/div[10]/div/div/div[2]/div[1]/div[1]/div/div/div/svg/g/g[2]/g[1]/g/g/g/g/g/g[1]/g/g[1]/g[2]/g[4]/g/g/g/g[8]/g/g/g[2]/text/tspan\")[0].text\n",
    "theme_s_4 = item.strip()\n",
    "\n",
    "item = tree.xpath(\"/html/body/div[1]/div/div/div[10]/div/div/div[2]/div[1]/div[2]/ul[1]/li[2]/h6/a\")[0].text\n",
    "theme_1_i1 = item.strip()\n",
    "\n",
    "item = tree.xpath(\"/html/body/div[1]/div/div/div[10]/div/div/div[2]/div[1]/div[2]/ul[1]/li[3]/h6/a\")[0].text\n",
    "theme_1_i2 = item.strip()\n",
    "\n",
    "item = tree.xpath(\"/html/body/div[1]/div/div/div[10]/div/div/div[2]/div[1]/div[2]/ul[1]/li[4]/h6/a\")[0].text\n",
    "theme_1_i3 = item.strip()\n",
    "\n",
    "item = tree.xpath(\"/html/body/div[1]/div/div/div[10]/div/div/div[2]/div[1]/div[2]/ul[2]/li[2]/h6/a\")[0].text\n",
    "theme_2_i1 = item.strip()\n",
    "\n",
    "item = tree.xpath(\"/html/body/div[1]/div/div/div[10]/div/div/div[2]/div[1]/div[2]/ul[2]/li[3]/h6/a\")[0].text\n",
    "theme_2_i2 = item.strip()\n",
    "\n",
    "item = tree.xpath(\"/html/body/div[1]/div/div/div[10]/div/div/div[2]/div[1]/div[2]/ul[2]/li[4]/h6/a\")[0].text\n",
    "theme_2_i3 = item.strip()\n",
    "\n",
    "item = tree.xpath(\"/html/body/div[1]/div/div/div[10]/div/div/div[2]/div[1]/div[2]/ul[3]/li[2]/h6/a\")[0].text\n",
    "theme_3_i1 = item.strip()\n",
    "\n",
    "item = tree.xpath(\"/html/body/div[1]/div/div/div[10]/div/div/div[2]/div[1]/div[2]/ul[3]/li[3]/h6/a\")[0].text\n",
    "theme_3_i2 = item.strip()\n",
    "\n",
    "item = tree.xpath(\"/html/body/div[1]/div/div/div[10]/div/div/div[2]/div[1]/div[2]/ul[3]/li[4]/h6/a\")[0].text\n",
    "theme_3_i3 = item.strip()\n",
    "\n",
    "item = tree.xpath(\"/html/body/div[1]/div/div/div[10]/div/div/div[2]/div[1]/div[2]/ul[4]/li[2]/h6/a\")[0].text\n",
    "theme_4_i1 = item.strip()\n",
    "\n",
    "item = tree.xpath(\"/html/body/div[1]/div/div/div[10]/div/div/div[2]/div[1]/div[2]/ul[4]/li[3]/h6/a\")[0].text\n",
    "theme_4_i2 = item.strip()\n",
    "\n",
    "item = tree.xpath(\"/html/body/div[1]/div/div/div[10]/div/div/div[2]/div[1]/div[2]/ul[4]/li[4]/h6/a\")[0].text\n",
    "theme_4_i3 = item.strip()\n",
    "\n",
    "item = tree.xpath(\"/html/body/div[1]/div/div/div[10]/div/div/div[2]/div[1]/div[2]/ul[1]/li[2]/p\")[0].text\n",
    "theme_1_i1_s = item.strip()\n",
    "\n",
    "item = tree.xpath(\"/html/body/div[1]/div/div/div[10]/div/div/div[2]/div[1]/div[2]/ul[1]/li[3]/p\")[0].text\n",
    "theme_1_i2_s = item.strip()\n",
    "\n",
    "item = tree.xpath(\"/html/body/div[1]/div/div/div[10]/div/div/div[2]/div[1]/div[2]/ul[1]/li[4]/p\")[0].text\n",
    "theme_1_i3_s = item.strip()\n",
    "\n",
    "item = tree.xpath(\"/html/body/div[1]/div/div/div[10]/div/div/div[2]/div[1]/div[2]/ul[2]/li[2]/p\")[0].text\n",
    "theme_2_i1_s = item.strip()\n",
    "\n",
    "item = tree.xpath(\"/html/body/div[1]/div/div/div[10]/div/div/div[2]/div[1]/div[2]/ul[2]/li[3]/p\")[0].text\n",
    "theme_2_i2_s = item.strip()\n",
    "\n",
    "item = tree.xpath(\"/html/body/div[1]/div/div/div[10]/div/div/div[2]/div[1]/div[2]/ul[2]/li[4]/p\")[0].text\n",
    "theme_2_i3_s = item.strip()\n",
    "\n",
    "item = tree.xpath(\"/html/body/div[1]/div/div/div[10]/div/div/div[2]/div[1]/div[2]/ul[3]/li[2]/p\")[0].text\n",
    "theme_3_i1_s = item.strip()\n",
    "\n",
    "item = tree.xpath(\"/html/body/div[1]/div/div/div[10]/div/div/div[2]/div[1]/div[2]/ul[3]/li[3]/p\")[0].text\n",
    "theme_3_i2_s = item.strip()\n",
    "\n",
    "item = tree.xpath(\"/html/body/div[1]/div/div/div[10]/div/div/div[2]/div[1]/div[2]/ul[3]/li[4]/p\")[0].text\n",
    "theme_3_i3_s = item.strip()\n",
    "\n",
    "item = tree.xpath(\"/html/body/div[1]/div/div/div[10]/div/div/div[2]/div[1]/div[2]/ul[4]/li[2]/p\")[0].text\n",
    "theme_4_i1_s = item.strip()\n",
    "\n",
    "item = tree.xpath(\"/html/body/div[1]/div/div/div[10]/div/div/div[2]/div[1]/div[2]/ul[4]/li[3]/p\")[0].text\n",
    "theme_4_i2_s = item.strip()\n",
    "\n",
    "item = tree.xpath(\"/html/body/div[1]/div/div/div[10]/div/div/div[2]/div[1]/div[2]/ul[4]/li[4]/p\")[0].text\n",
    "theme_4_i3_s = item.strip()\n",
    "\n",
    "\n",
    "#급상승 상위\n",
    "item = tree.xpath(\"/html/body/div[1]/div/div/div[10]/div/div/div[2]/div[2]/div[2]/ul[1]/li[1]/h6\")[0].text\n",
    "theme_1_up = item.strip()\n",
    "\n",
    "item = tree.xpath(\"/html/body/div[1]/div/div/div[10]/div/div/div[2]/div[2]/div[2]/ul[2]/li[1]/h6\")[0].text\n",
    "theme_2_up = item.strip()\n",
    "\n",
    "item = tree.xpath(\"/html/body/div[1]/div/div/div[10]/div/div/div[2]/div[2]/div[2]/ul[3]/li[1]/h6\")[0].text\n",
    "theme_3_up = item.strip()\n",
    "\n",
    "item = tree.xpath(\"/html/body/div[1]/div/div/div[10]/div/div/div[2]/div[2]/div[2]/ul[4]/li[1]/h6\")[0].text\n",
    "theme_4_up = item.strip()\n",
    "\n",
    "item = tree.xpath(\"/html/body/div[1]/div/div/div[10]/div/div/div[2]/div[1]/div[2]/ul[1]/li[2]/h6/a\")[0].text\n",
    "theme_1_up_i1 = item.strip()\n",
    "\n",
    "item = tree.xpath(\"/html/body/div[1]/div/div/div[10]/div/div/div[2]/div[1]/div[2]/ul[1]/li[3]/h6/a\")[0].text\n",
    "theme_1_up_i2 = item.strip()\n",
    "\n",
    "item = tree.xpath(\"/html/body/div[1]/div/div/div[10]/div/div/div[2]/div[1]/div[2]/ul[1]/li[4]/h6/a\")[0].text\n",
    "theme_1_up_i3 = item.strip()\n",
    "\n",
    "item = tree.xpath(\"/html/body/div[1]/div/div/div[10]/div/div/div[2]/div[1]/div[2]/ul[2]/li[2]/h6/a\")[0].text\n",
    "theme_2_up_i1 = item.strip()\n",
    "\n",
    "item = tree.xpath(\"/html/body/div[1]/div/div/div[10]/div/div/div[2]/div[1]/div[2]/ul[2]/li[3]/h6/a\")[0].text\n",
    "theme_2_up_i2 = item.strip()\n",
    "\n",
    "item = tree.xpath(\"/html/body/div[1]/div/div/div[10]/div/div/div[2]/div[1]/div[2]/ul[2]/li[4]/h6/a\")[0].text\n",
    "theme_2_up_i3 = item.strip()\n",
    "\n",
    "item = tree.xpath(\"/html/body/div[1]/div/div/div[10]/div/div/div[2]/div[1]/div[2]/ul[3]/li[2]/h6/a\")[0].text\n",
    "theme_3_up_i1 = item.strip()\n",
    "\n",
    "item = tree.xpath(\"/html/body/div[1]/div/div/div[10]/div/div/div[2]/div[1]/div[2]/ul[3]/li[3]/h6/a\")[0].text\n",
    "theme_3_up_i2 = item.strip()\n",
    "\n",
    "item = tree.xpath(\"/html/body/div[1]/div/div/div[10]/div/div/div[2]/div[1]/div[2]/ul[3]/li[4]/h6/a\")[0].text\n",
    "theme_3_up_i3 = item.strip()\n",
    "\n",
    "item = tree.xpath(\"/html/body/div[1]/div/div/div[10]/div/div/div[2]/div[1]/div[2]/ul[4]/li[2]/h6/a\")[0].text\n",
    "theme_4_up_i1 = item.strip()\n",
    "\n",
    "item = tree.xpath(\"/html/body/div[1]/div/div/div[10]/div/div/div[2]/div[1]/div[2]/ul[4]/li[3]/h6/a\")[0].text\n",
    "theme_4_up_i2 = item.strip()\n",
    "\n",
    "item = tree.xpath(\"/html/body/div[1]/div/div/div[10]/div/div/div[2]/div[1]/div[2]/ul[4]/li[4]/h6/a\")[0].text\n",
    "theme_4_up_i3 = item.strip()         \n",
    "                  \n",
    "item = tree.xpath(\"/html/body/div[1]/div/div/div[10]/div/div/div[2]/div[1]/div[2]/ul[1]/li[2]/p\")[0].text\n",
    "theme_1_up_s1 = item.strip()\n",
    "\n",
    "item = tree.xpath(\"/html/body/div[1]/div/div/div[10]/div/div/div[2]/div[1]/div[2]/ul[1]/li[3]/p\")[0].text\n",
    "theme_1_up_s2 = item.strip()\n",
    "\n",
    "item = tree.xpath(\"/html/body/div[1]/div/div/div[10]/div/div/div[2]/div[1]/div[2]/ul[1]/li[4]/p\")[0].text\n",
    "theme_1_up_s3 = item.strip()  \n",
    "                  \n",
    "item = tree.xpath(\"/html/body/div[1]/div/div/div[10]/div/div/div[2]/div[1]/div[2]/ul[2]/li[2]/p\")[0].text\n",
    "theme_2_up_s1 = item.strip()\n",
    "\n",
    "item = tree.xpath(\"/html/body/div[1]/div/div/div[10]/div/div/div[2]/div[1]/div[2]/ul[2]/li[3]/p\")[0].text\n",
    "theme_2_up_s2 = item.strip()\n",
    "\n",
    "item = tree.xpath(\"/html/body/div[1]/div/div/div[10]/div/div/div[2]/div[1]/div[2]/ul[2]/li[4]/p\")[0].text\n",
    "theme_2_up_s3 = item.strip()  \n",
    "                  \n",
    "item = tree.xpath(\"/html/body/div[1]/div/div/div[10]/div/div/div[2]/div[1]/div[2]/ul[3]/li[2]/p\")[0].text\n",
    "theme_3_up_s1 = item.strip()\n",
    "\n",
    "item = tree.xpath(\"/html/body/div[1]/div/div/div[10]/div/div/div[2]/div[1]/div[2]/ul[3]/li[3]/p\")[0].text\n",
    "theme_3_up_s2 = item.strip()\n",
    "\n",
    "item = tree.xpath(\"/html/body/div[1]/div/div/div[10]/div/div/div[2]/div[1]/div[2]/ul[3]/li[4]/p\")[0].text\n",
    "theme_3_up_s3 = item.strip()      \n",
    "                  \n",
    "item = tree.xpath(\"/html/body/div[1]/div/div/div[10]/div/div/div[2]/div[1]/div[2]/ul[4]/li[2]/p\")[0].text\n",
    "theme_4_up_s1 = item.strip()\n",
    "\n",
    "item = tree.xpath(\"/html/body/div[1]/div/div/div[10]/div/div/div[2]/div[1]/div[2]/ul[4]/li[3]/p\")[0].text\n",
    "theme_4_up_s2 = item.strip()\n",
    "\n",
    "item = tree.xpath(\"/html/body/div[1]/div/div/div[10]/div/div/div[2]/div[1]/div[2]/ul[4]/li[4]/p\")[0].text\n",
    "theme_4_up_s3 = item.strip()      \n",
    "                  \n",
    "                  "
   ]
  },
  {
   "cell_type": "code",
   "execution_count": null,
   "id": "f5d8c185",
   "metadata": {},
   "outputs": [],
   "source": []
  },
  {
   "cell_type": "code",
   "execution_count": null,
   "id": "fde79987",
   "metadata": {},
   "outputs": [],
   "source": []
  },
  {
   "cell_type": "code",
   "execution_count": null,
   "id": "fcca7325",
   "metadata": {},
   "outputs": [],
   "source": []
  },
  {
   "cell_type": "code",
   "execution_count": null,
   "id": "3380295d",
   "metadata": {},
   "outputs": [],
   "source": []
  },
  {
   "cell_type": "code",
   "execution_count": 6,
   "id": "db378f64",
   "metadata": {},
   "outputs": [
    {
     "name": "stdout",
     "output_type": "stream",
     "text": [
      "https://mirae-rpa.some.co.kr/report.html?report_id=1_2094\n",
      "https://mirae-rpa.some.co.kr/report.html?report_id=1_2093\n",
      "https://mirae-rpa.some.co.kr/report.html?report_id=1_2092\n",
      "https://mirae-rpa.some.co.kr/report.html?report_id=1_2091\n",
      "https://mirae-rpa.some.co.kr/report.html?report_id=1_2090\n",
      "https://mirae-rpa.some.co.kr/report.html?report_id=1_2089\n",
      "https://mirae-rpa.some.co.kr/report.html?report_id=1_2088\n",
      "https://mirae-rpa.some.co.kr/report.html?report_id=1_2087\n",
      "https://mirae-rpa.some.co.kr/report.html?report_id=1_2086\n",
      "https://mirae-rpa.some.co.kr/report.html?report_id=1_2085\n",
      "https://mirae-rpa.some.co.kr/report.html?report_id=1_2084\n",
      "https://mirae-rpa.some.co.kr/report.html?report_id=1_2083\n",
      "https://mirae-rpa.some.co.kr/report.html?report_id=1_2082\n",
      "https://mirae-rpa.some.co.kr/report.html?report_id=1_2081\n",
      "https://mirae-rpa.some.co.kr/report.html?report_id=1_2080\n",
      "https://mirae-rpa.some.co.kr/report.html?report_id=1_2079\n",
      "https://mirae-rpa.some.co.kr/report.html?report_id=1_2078\n",
      "https://mirae-rpa.some.co.kr/report.html?report_id=1_2077\n",
      "https://mirae-rpa.some.co.kr/report.html?report_id=1_2076\n",
      "https://mirae-rpa.some.co.kr/report.html?report_id=1_2075\n",
      "https://mirae-rpa.some.co.kr/report.html?report_id=1_2074\n",
      "https://mirae-rpa.some.co.kr/report.html?report_id=1_2073\n",
      "https://mirae-rpa.some.co.kr/report.html?report_id=1_2072\n",
      "https://mirae-rpa.some.co.kr/report.html?report_id=1_2071\n",
      "https://mirae-rpa.some.co.kr/report.html?report_id=1_2070\n",
      "https://mirae-rpa.some.co.kr/report.html?report_id=1_2069\n",
      "https://mirae-rpa.some.co.kr/report.html?report_id=1_2068\n",
      "https://mirae-rpa.some.co.kr/report.html?report_id=1_2067\n",
      "https://mirae-rpa.some.co.kr/report.html?report_id=1_2066\n",
      "https://mirae-rpa.some.co.kr/report.html?report_id=1_2065\n",
      "https://mirae-rpa.some.co.kr/report.html?report_id=1_2064\n",
      "https://mirae-rpa.some.co.kr/report.html?report_id=1_2063\n",
      "https://mirae-rpa.some.co.kr/report.html?report_id=1_2062\n",
      "https://mirae-rpa.some.co.kr/report.html?report_id=1_2061\n",
      "https://mirae-rpa.some.co.kr/report.html?report_id=1_2060\n",
      "https://mirae-rpa.some.co.kr/report.html?report_id=1_2059\n",
      "https://mirae-rpa.some.co.kr/report.html?report_id=1_2058\n",
      "https://mirae-rpa.some.co.kr/report.html?report_id=1_2057\n",
      "https://mirae-rpa.some.co.kr/report.html?report_id=1_2056\n",
      "https://mirae-rpa.some.co.kr/report.html?report_id=1_2055\n",
      "https://mirae-rpa.some.co.kr/report.html?report_id=1_2054\n",
      "https://mirae-rpa.some.co.kr/report.html?report_id=1_2053\n",
      "https://mirae-rpa.some.co.kr/report.html?report_id=1_2052\n",
      "https://mirae-rpa.some.co.kr/report.html?report_id=1_2051\n",
      "https://mirae-rpa.some.co.kr/report.html?report_id=1_2050\n",
      "https://mirae-rpa.some.co.kr/report.html?report_id=1_2049\n",
      "https://mirae-rpa.some.co.kr/report.html?report_id=1_2048\n",
      "https://mirae-rpa.some.co.kr/report.html?report_id=1_2047\n",
      "https://mirae-rpa.some.co.kr/report.html?report_id=1_2046\n",
      "https://mirae-rpa.some.co.kr/report.html?report_id=1_2045\n",
      "https://mirae-rpa.some.co.kr/report.html?report_id=1_2044\n",
      "시장 읽어주는 AI\n",
      "https://mirae-rpa.some.co.kr/report.html?report_id=1_2040\n",
      "https://mirae-rpa.some.co.kr/report.html?report_id=1_2039\n",
      "https://mirae-rpa.some.co.kr/report.html?report_id=1_2038\n",
      "https://mirae-rpa.some.co.kr/report.html?report_id=1_2037\n",
      "https://mirae-rpa.some.co.kr/report.html?report_id=1_2036\n",
      "https://mirae-rpa.some.co.kr/report.html?report_id=1_2035\n",
      "https://mirae-rpa.some.co.kr/report.html?report_id=1_2034\n",
      "https://mirae-rpa.some.co.kr/report.html?report_id=1_2033\n"
     ]
    },
    {
     "ename": "IndexError",
     "evalue": "list index out of range",
     "output_type": "error",
     "traceback": [
      "\u001b[0;31m---------------------------------------------------------------------------\u001b[0m",
      "\u001b[0;31mIndexError\u001b[0m                                Traceback (most recent call last)",
      "Input \u001b[0;32mIn [6]\u001b[0m, in \u001b[0;36m<cell line: 1>\u001b[0;34m()\u001b[0m\n\u001b[1;32m     84\u001b[0m item \u001b[38;5;241m=\u001b[39m tree\u001b[38;5;241m.\u001b[39mxpath(\u001b[38;5;124m\"\u001b[39m\u001b[38;5;124m/html/body/div[1]/div/div/div[9]/div/div/ul/li[2]/div[2]/p\u001b[39m\u001b[38;5;124m\"\u001b[39m)[\u001b[38;5;241m0\u001b[39m]\u001b[38;5;241m.\u001b[39mtext\n\u001b[1;32m     85\u001b[0m sent_2 \u001b[38;5;241m=\u001b[39m item\u001b[38;5;241m.\u001b[39mstrip()\n\u001b[0;32m---> 87\u001b[0m item \u001b[38;5;241m=\u001b[39m \u001b[43mtree\u001b[49m\u001b[38;5;241;43m.\u001b[39;49m\u001b[43mxpath\u001b[49m\u001b[43m(\u001b[49m\u001b[38;5;124;43m\"\u001b[39;49m\u001b[38;5;124;43m/html/body/div[1]/div/div/div[9]/div/div/ul/li[3]/div[1]/a/h6\u001b[39;49m\u001b[38;5;124;43m\"\u001b[39;49m\u001b[43m)\u001b[49m\u001b[43m[\u001b[49m\u001b[38;5;241;43m0\u001b[39;49m\u001b[43m]\u001b[49m\u001b[38;5;241m.\u001b[39mtext\n\u001b[1;32m     88\u001b[0m title_3 \u001b[38;5;241m=\u001b[39m item\u001b[38;5;241m.\u001b[39mstrip()\n\u001b[1;32m     90\u001b[0m item \u001b[38;5;241m=\u001b[39m tree\u001b[38;5;241m.\u001b[39mxpath(\u001b[38;5;124m\"\u001b[39m\u001b[38;5;124m/html/body/div[1]/div/div/div[9]/div/div/ul/li[3]/div[1]/a/p[1]\u001b[39m\u001b[38;5;124m\"\u001b[39m)[\u001b[38;5;241m0\u001b[39m]\u001b[38;5;241m.\u001b[39mtext\n",
      "\u001b[0;31mIndexError\u001b[0m: list index out of range"
     ]
    }
   ],
   "source": [
    "    item_name = item[0][:-1]\n",
    "        \n",
    "    item = tree.xpath('/html/body/div[1]/div/div/div[1]/div/div/h1/a/small')[0].text\n",
    "    item_code = item[1:-1]\n",
    "    \n",
    "    item = tree.xpath(\"/html/body/div[1]/div/div/div[4]/div/div/ul/li[1]/div[1]/div/h5/em\")[0].text\n",
    "    news_score = item.strip()\n",
    "    item = tree.xpath(\"/html/body/div[1]/div/div/div[4]/div/div/ul/li[1]/div[2]/div[1]/h5/em\")[0].text\n",
    "    news_rank = item.strip()\n",
    "    \n",
    "    item = tree.xpath(\"/html/body/div[1]/div/div/div[4]/div/div/ul/li[2]/div[1]/div/h5/em\")[0].text\n",
    "    chart_score = item.strip()\n",
    "    item = tree.xpath(\"/html/body/div[1]/div/div/div[4]/div/div/ul/li[2]/div[2]/div[1]/h5/em\")[0].text\n",
    "    chart_rank = item.strip()\n",
    "\n",
    "    item = tree.xpath(\"/html/body/div[1]/div/div/div[4]/div/div/ul/li[3]/div[1]/div/h5/em\")[0].text\n",
    "    fin_score = item.strip()\n",
    "    item = tree.xpath(\"/html/body/div[1]/div/div/div[4]/div/div/ul/li[3]/div[2]/div[1]/h5/em\")[0].text\n",
    "    fin_rank = item.strip()\n",
    "\n",
    "    item = tree.xpath(\"/html/body/div[1]/div/div/div[6]/div/div/div[2]/div/div[2]/h6\")[0].text\n",
    "    price = item.strip()\n",
    "    \n",
    "    item = tree.xpath(\"/html/body/div[1]/div/div/div[6]/div/div/div[2]/ul/li[1]/dl[1]/dd\")[0].text\n",
    "    market = item.strip()\n",
    "    \n",
    "    item = tree.xpath(\"/html/body/div[1]/div/div/div[6]/div/div/div[2]/ul/li[1]/dl[2]/dd\")[0].text\n",
    "    total_value = item.strip()\n",
    "\n",
    "    item = tree.xpath(\"/html/body/div[1]/div/div/div[6]/div/div/div[2]/ul/li[1]/dl[3]/dd\")[0].text\n",
    "    total_rank = item.strip()\n",
    "    \n",
    "    item = tree.xpath(\"/html/body/div[1]/div/div/div[6]/div/div/div[2]/ul/li[1]/dl[4]/dd\")[0].text\n",
    "    sector = item.strip()\n",
    "\n",
    "    item = tree.xpath(\"/html/body/div[1]/div/div/div[6]/div/div/div[2]/ul/li[1]/dl[5]/dd\")[0].text\n",
    "    stock_amount = item.strip()\n",
    "\n",
    "    item = tree.xpath(\"/html/body/div[1]/div/div/div[6]/div/div/div[2]/ul/li[2]/dl[1]/dd\")[0].text\n",
    "    per = item.strip()\n",
    "\n",
    "    item = tree.xpath(\"/html/body/div[1]/div/div/div[6]/div/div/div[2]/ul/li[2]/dl[2]/dd\")[0].text\n",
    "    pbr = item.strip()\n",
    "\n",
    "    item = tree.xpath(\"/html/body/div[1]/div/div/div[6]/div/div/div[2]/ul/li[2]/dl[3]/dd\")[0].text\n",
    "    roe = item.strip()\n",
    "\n",
    "    item = tree.xpath(\"/html/body/div[1]/div/div/div[6]/div/div/div[2]/ul/li[2]/dl[4]/dd\")[0].text\n",
    "    evebitda = item.strip()\n",
    "\n",
    "    item = tree.xpath(\"/html/body/div[1]/div/div/div[6]/div/div/div[2]/ul/li[2]/dl[5]/dd\")[0].text\n",
    "    baedang = item.strip()\n",
    "\n",
    "    item = tree.xpath(\"/html/body/div[1]/div/div/div[9]/div/div/ul/li[1]/div[1]/a/h6\")[0].text\n",
    "    title_1 = item.strip()\n",
    "\n",
    "    item = tree.xpath(\"/html/body/div[1]/div/div/div[9]/div/div/ul/li[1]/div[1]/a/p[1]\")[0].text\n",
    "    content_1 = item.strip()\n",
    "\n",
    "    item = tree.xpath(\"/html/body/div[1]/div/div/div[9]/div/div/ul/li[1]/div[2]/p\")[0].text\n",
    "    sent_1 = item.strip()\n",
    "\n",
    "    item = tree.xpath(\"/html/body/div[1]/div/div/div[9]/div/div/ul/li[2]/div[1]/a/h6\")[0].text\n",
    "    title_2 = item.strip()\n",
    "\n",
    "    item = tree.xpath(\"/html/body/div[1]/div/div/div[9]/div/div/ul/li[2]/div[1]/a/p[1]\")[0].text\n",
    "    content_2 = item.strip()\n",
    "\n",
    "    item = tree.xpath(\"/html/body/div[1]/div/div/div[9]/div/div/ul/li[2]/div[2]/p\")[0].text\n",
    "    sent_2 = item.strip()\n",
    "\n",
    "    item = tree.xpath(\"/html/body/div[1]/div/div/div[9]/div/div/ul/li[3]/div[1]/a/h6\")[0].text\n",
    "    title_3 = item.strip()\n",
    "\n",
    "    item = tree.xpath(\"/html/body/div[1]/div/div/div[9]/div/div/ul/li[3]/div[1]/a/p[1]\")[0].text\n",
    "    content_3 = item.strip()\n",
    "\n",
    "    item = tree.xpath(\"/html/body/div[1]/div/div/div[9]/div/div/ul/li[3]/div[2]/p\")[0].text\n",
    "    sent_3 = item.strip()\n",
    "\n",
    "    item = tree.xpath(\"/html/body/div[1]/div/div/div[12]/div/div/div[2]/div[1]/div[2]/div/div/div/svg/g/g[2]/g[1]/g/g/g/g/g/g[1]/g/g[2]/g/g/g/g[3]/g/g[10]/g/text/tspan\")[0].text\n",
    "    peer_1 = item.strip()\n",
    "    \n",
    "    item = tree.xpath(\"/html/body/div[1]/div/div/div[12]/div/div/div[2]/div[1]/div[2]/div/div/div/svg/g/g[2]/g[1]/g/g/g/g/g/g[1]/g/g[2]/g/g/g/g[3]/g/g[9]/g/text/tspan\")[0].text\n",
    "    peer_2 = item.strip()\n",
    "\n",
    "    item = tree.xpath(\"/html/body/div[1]/div/div/div[12]/div/div/div[2]/div[1]/div[2]/div/div/div/svg/g/g[2]/g[1]/g/g/g/g/g/g[1]/g/g[2]/g/g/g/g[3]/g/g[8]/g/text/tspan\")[0].text\n",
    "    peer_3 = item.strip()\n",
    "\n",
    "    item = tree.xpath(\"/html/body/div[1]/div/div/div[12]/div/div/div[2]/div[1]/div[2]/div/div/div/svg/g/g[2]/g[1]/g/g/g/g/g/g[1]/g/g[2]/g/g/g/g[3]/g/g[7]/g/text/tspan\")[0].text\n",
    "    peer_4 = item.strip()\n",
    "        \n",
    "    \n",
    "    item = tree.xpath(\"/html/body/div[1]/div/div/div[12]/div/div/div[2]/div[1]/div[2]/div/div/div/svg/g/g[2]/g[1]/g/g/g/g/g/g[1]/g/g[2]/g/g/g/g[3]/g/g[10]/g/text/tspan\")[0].text\n",
    "    roe_1 = item.strip()\n",
    "\n",
    "    item = tree.xpath(\"/html/body/div[1]/div/div/div[12]/div/div/div[2]/div[1]/div[2]/div/div/div/svg/g/g[2]/g[1]/g/g/g/g/g/g[1]/g/g[2]/g/g/g/g[3]/g/g[9]/g/text/tspan\")[0].text\n",
    "    roe_2 = item.strip()\n",
    "\n",
    "    item = tree.xpath(\"/html/body/div[1]/div/div/div[12]/div/div/div[2]/div[1]/div[2]/div/div/div/svg/g/g[2]/g[1]/g/g/g/g/g/g[1]/g/g[2]/g/g/g/g[3]/g/g[8]/g/text/tspan\")[0].text\n",
    "    roe_3 = item.strip()\n",
    "\n",
    "    item = tree.xpath(\"/html/body/div[1]/div/div/div[12]/div/div/div[2]/div[1]/div[2]/div/div/div/svg/g/g[2]/g[1]/g/g/g/g/g/g[1]/g/g[2]/g/g/g/g[3]/g/g[7]/g/text/tspan\")[0].text\n",
    "    roe_4 = item.strip()\n",
    "\n",
    "    item = tree.xpath(\"/html/body/div[1]/div/div/div[12]/div/div/div[2]/div[2]/div[2]/div/div/div/svg/g/g[2]/g[1]/g/g/g/g/g/g[1]/g/g[2]/g/g/g/g[3]/g/g[10]/g/text/tspan\")[0].text\n",
    "    yoy_1 = item.strip()\n",
    "    \n",
    "    item = tree.xpath(\"/html/body/div[1]/div/div/div[12]/div/div/div[2]/div[2]/div[2]/div/div/div/svg/g/g[2]/g[1]/g/g/g/g/g/g[1]/g/g[2]/g/g/g/g[3]/g/g[9]/g/text/tspan\")[0].text\n",
    "    yoy_2 = item.strip()\n",
    "\n",
    "    item = tree.xpath(\"/html/body/div[1]/div/div/div[12]/div/div/div[2]/div[2]/div[2]/div/div/div/svg/g/g[2]/g[1]/g/g/g/g/g/g[1]/g/g[2]/g/g/g/g[3]/g/g[8]/g/text/tspan\")[0].text\n",
    "    yoy_3 = item.strip()\n",
    "\n",
    "    item = tree.xpath(\"/html/body/div[1]/div/div/div[12]/div/div/div[2]/div[2]/div[2]/div/div/div/svg/g/g[2]/g[1]/g/g/g/g/g/g[1]/g/g[2]/g/g/g/g[3]/g/g[7]/g/text/tspan\")[0].text\n",
    "    yoy_4 = item.strip()    \n",
    "    \n",
    "    item = tree.xpath(\"/html/body/div[1]/div/div/div[12]/div/div/div[2]/div[3]/div[2]/div/div/div/svg/g/g[2]/g[1]/g/g/g/g/g/g[1]/g/g[2]/g/g/g/g[3]/g/g[10]/g/text/tspan\")[0].text\n",
    "    safe_1 = item.strip()\n",
    "    \n",
    "    item = tree.xpath(\"/html/body/div[1]/div/div/div[12]/div/div/div[2]/div[3]/div[2]/div/div/div/svg/g/g[2]/g[1]/g/g/g/g/g/g[1]/g/g[2]/g/g/g/g[3]/g/g[9]/g/text/tspan\")[0].text\n",
    "    safe_2 = item.strip()\n",
    "\n",
    "    item = tree.xpath(\"/html/body/div[1]/div/div/div[12]/div/div/div[2]/div[3]/div[2]/div/div/div/svg/g/g[2]/g[1]/g/g/g/g/g/g[1]/g/g[2]/g/g/g/g[3]/g/g[8]/g/text/tspan\")[0].text\n",
    "    safe_3 = item.strip()\n",
    "\n",
    "    item = tree.xpath(\"/html/body/div[1]/div/div/div[12]/div/div/div[2]/div[3]/div[2]/div/div/div/svg/g/g[2]/g[1]/g/g/g/g/g/g[1]/g/g[2]/g/g/g/g[3]/g/g[7]/g/text/tspan\")[0].text\n",
    "    safe_4 = item.strip()    \n",
    "    \n",
    "    item = tree.xpath(\"/html/body/div[1]/div/div/div[12]/div/div/div[2]/div[4]/div[2]/div/div/div/svg/g/g[2]/g[1]/g/g/g/g/g/g[1]/g/g[2]/g/g/g/g[3]/g/g[10]/g/text/tspan\")[0].text\n",
    "    active_1 = item.strip()\n",
    "    \n",
    "    item = tree.xpath(\"/html/body/div[1]/div/div/div[12]/div/div/div[2]/div[4]/div[2]/div/div/div/svg/g/g[2]/g[1]/g/g/g/g/g/g[1]/g/g[2]/g/g/g/g[3]/g/g[9]/g/text/tspan\")[0].text\n",
    "    active_2 = item.strip()\n",
    "\n",
    "    item = tree.xpath(\"/html/body/div[1]/div/div/div[12]/div/div/div[2]/div[4]/div[2]/div/div/div/svg/g/g[2]/g[1]/g/g/g/g/g/g[1]/g/g[2]/g/g/g/g[3]/g/g[8]/g/text/tspan\")[0].text\n",
    "    active_3 = item.strip()\n",
    "\n",
    "    item = tree.xpath(\"/html/body/div[1]/div/div/div[12]/div/div/div[2]/div[4]/div[2]/div/div/div/svg/g/g[2]/g[1]/g/g/g/g/g/g[1]/g/g[2]/g/g/g/g[3]/g/g[7]/g/text/tspan\")[0].text\n",
    "    active_4 = item.strip()    \n",
    "\n",
    "    item = tree.xpath(\"/html/body/div[1]/div/div/div[15]/div/div/div[2]\")   \n",
    "    theme_num = len(item)\n",
    "    \n",
    "    theme_1_1 = \"\"\n",
    "    theme_1_2 = \"\"\n",
    "    theme_1_3 = \"\"\n",
    "    theme_1_4 = \"\"\n",
    "\n",
    "    theme_2_1 = \"\"\n",
    "    theme_2_2 = \"\"\n",
    "    theme_2_3 = \"\"\n",
    "    theme_2_4 = \"\"\n",
    "\n",
    "    theme_3_1 = \"\"\n",
    "    theme_3_2 = \"\"\n",
    "    theme_3_3 = \"\"\n",
    "    theme_3_4 = \"\"\n",
    "\n",
    "    theme_4_1 = \"\"\n",
    "    theme_4_2 = \"\"\n",
    "    theme_4_3 = \"\"\n",
    "    theme_4_4 = \"\"\n",
    "    \n",
    "    \n",
    "    for i in range(1, theme_num+1):\n",
    "        item = tree.xpath(\"/html/body/div[1]/div/div/div[15]/div/div/div[2]/ul[{}]/li[1]/h6\".format(str(i)))[0].text\n",
    "        theme_1_1 = item.strip()    \n",
    "\n",
    "        item = tree.xpath(\"/html/body/div[1]/div/div/div[15]/div/div/div[2]/ul[{}]/li[2]/h6/a\".format(str(i)))[0].text\n",
    "        theme_1_2 = item.strip()\n",
    "\n",
    "        item = tree.xpath(\"/html/body/div[1]/div/div/div[15]/div/div/div[2]/ul[{}]/li[3]/h6/a\".format(str(i)))[0].text\n",
    "        theme_1_3 = item.strip()\n",
    "\n",
    "        item = tree.xpath(\"/html/body/div[1]/div/div/div[15]/div/div/div[2]/ul[{}]/li[4]/h6/a\".format(str(i)))[0].text\n",
    "        theme_1_4 = item.strip()    \n",
    "\n",
    "        item = tree.xpath(\"/html/body/div[1]/div/div/div[15]/div/div/div[2]/ul[{}]/li[1]/h6\".format(str(i)))[0].text\n",
    "        theme_2_1 = item.strip()    \n",
    "\n",
    "        item = tree.xpath(\"/html/body/div[1]/div/div/div[15]/div/div/div[2]/ul[{}]/li[2]/h6/a\".format(str(i)))[0].text\n",
    "        theme_2_2 = item.strip()\n",
    "\n",
    "        item = tree.xpath(\"/html/body/div[1]/div/div/div[15]/div/div/div[2]/ul[{}]/li[3]/h6/a\".format(str(i)))[0].text\n",
    "        theme_2_3 = item.strip()\n",
    "\n",
    "        item = tree.xpath(\"/html/body/div[1]/div/div/div[15]/div/div/div[2]/ul[{}]/li[4]/h6/a\".format(str(i)))[0].text\n",
    "        theme_2_4 = item.strip()       \n",
    "\n",
    "        item = tree.xpath(\"/html/body/div[1]/div/div/div[15]/div/div/div[2]/ul[{}]/li[1]/h6\".format(str(i)))[0].text\n",
    "        theme_3_1 = item.strip()    \n",
    "\n",
    "        item = tree.xpath(\"/html/body/div[1]/div/div/div[15]/div/div/div[2]/ul[{}]/li[2]/h6/a\".format(str(i)))[0].text\n",
    "        theme_3_2 = item.strip()\n",
    "\n",
    "        item = tree.xpath(\"/html/body/div[1]/div/div/div[15]/div/div/div[2]/ul[{}]/li[3]/h6/a\".format(str(i)))[0].text\n",
    "        theme_3_3 = item.strip()\n",
    "\n",
    "        item = tree.xpath(\"/html/body/div[1]/div/div/div[15]/div/div/div[2]/ul[{}]/li[4]/h6/a\".format(str(i)))[0].text\n",
    "        theme_3_4 = item.strip()       \n",
    "\n",
    "        item = tree.xpath(\"/html/body/div[1]/div/div/div[15]/div/div/div[2]/ul[{}]/li[1]/h6\".format(str(i)))[0].text\n",
    "        theme_4_1 = item.strip()    \n",
    "\n",
    "        item = tree.xpath(\"/html/body/div[1]/div/div/div[15]/div/div/div[2]/ul[{}]/li[2]/h6/a\".format(str(i)))[0].text\n",
    "        theme_4_2 = item.strip()\n",
    "\n",
    "        item = tree.xpath(\"/html/body/div[1]/div/div/div[15]/div/div/div[2]/ul[{}]/li[3]/h6/a\".format(str(i)))[0].text\n",
    "        theme_4_3 = item.strip()\n",
    "\n",
    "        item = tree.xpath(\"/html/body/div[1]/div/div/div[15]/div/div/div[2]/ul[{}]/li[4]/h6/a\".format(str(i)))[0].text\n",
    "        theme_4_4 = item.strip()       \n",
    "    \n",
    "    data = {'item_name': item_name, 'item_code': item_code, 'news_score': news_score, 'news_rank': news_rank, 'chart_score': chart_score, 'chart_rank':chart_rank, 'fin_score': fin_score, 'fin_rank': fin_rank, 'price': price, 'market': market, 'total_value': total_value, 'total_rank': total_rank, 'sector': sector, 'per': per, 'pbr': pbr, 'roe': roe, 'evebitda': evebitda, 'baedang': baedang, 'title_1': title_1, 'content_1':content_1, 'sent_1': sent_1, 'title_2':title_2, 'content_2':content_2, 'sent_2':sent_2, 'title_3': title_3, 'content_3':content_3, 'sent_3': sent_3 , 'peer_1': peer_1,  'peer_2': peer_2,  'peer_3': peer_3,  'peer_4': peer_4, 'roe_1': roe_1,'roe_2': roe_2,'roe_3': roe_3,'roe_4': roe_4, 'yoy_1':yoy_1, 'yoy_2':yoy_2, 'yoy_3':yoy_3, 'yoy_4':yoy_4, 'safe_1': safe_1, 'safe_2': safe_2, 'safe_3': safe_3, 'safe_4': safe_4, 'active_1': active_1, 'active_2': active_2, 'active_3': active_3, 'active_4': active_4, 'theme_1_1': theme_1_1,'theme_1_2': theme_1_2,'theme_1_3': theme_1_3,'theme_1_4': theme_1_4, 'theme_2_1': theme_2_1, 'theme_2_2': theme_2_2, 'theme_2_3': theme_2_3, 'theme_2_4': theme_2_4, 'theme_3_1': theme_3_1, 'theme_3_2': theme_3_2, 'theme_3_3': theme_3_3, 'theme_3_4': theme_3_4, 'theme_4_1': theme_4_1, 'theme_4_2': theme_4_2, 'theme_4_3': theme_4_3, 'theme_4_4': theme_4_4  }\n",
    "    df= pd.DataFrame(data, index=[0])\n",
    "    df.to_csv('vaiv_221102_2.tsv',sep=\"\\t\", mode='a', header=False)        \n",
    "    \n",
    "    time.sleep(1)"
   ]
  },
  {
   "cell_type": "code",
   "execution_count": 91,
   "id": "f74a7a78",
   "metadata": {},
   "outputs": [
    {
     "data": {
      "text/plain": [
       "[<Element div at 0x7fdc2cecc9c0>]"
      ]
     },
     "execution_count": 91,
     "metadata": {},
     "output_type": "execute_result"
    }
   ],
   "source": [
    "tree.xpath(\"/html/body/div[1]/div/div/div[15]/div/div/div[2]\")"
   ]
  },
  {
   "cell_type": "code",
   "execution_count": null,
   "id": "6b640df8",
   "metadata": {},
   "outputs": [],
   "source": []
  },
  {
   "cell_type": "code",
   "execution_count": 3,
   "id": "64b7d6ae",
   "metadata": {},
   "outputs": [],
   "source": [
    "item = tree.xpath('/html/body/div[1]/div/div/div[1]/div/div/h1/a/text()')"
   ]
  },
  {
   "cell_type": "code",
   "execution_count": 4,
   "id": "0329a14b",
   "metadata": {},
   "outputs": [
    {
     "data": {
      "text/plain": [
       "[]"
      ]
     },
     "execution_count": 4,
     "metadata": {},
     "output_type": "execute_result"
    }
   ],
   "source": [
    "item"
   ]
  },
  {
   "cell_type": "code",
   "execution_count": 64,
   "id": "0c6ecd74",
   "metadata": {},
   "outputs": [],
   "source": [
    "item = tree.xpath(\"/html/body/div[1]/div/div/div[12]/div/div/div[2]/div[1]/div[2]/div/div/div/svg/g/g[2]/g[1]/g/g/g/g/g/g[1]/g/g[2]/g/g/g/g[3]/g/g[3]/g/text/tspan\")[0].text\n",
    "roe_4 = item.strip()"
   ]
  },
  {
   "cell_type": "code",
   "execution_count": 85,
   "id": "f129717c",
   "metadata": {},
   "outputs": [
    {
     "data": {
      "text/plain": [
       "'에코프로'"
      ]
     },
     "execution_count": 85,
     "metadata": {},
     "output_type": "execute_result"
    }
   ],
   "source": []
  },
  {
   "cell_type": "code",
   "execution_count": 88,
   "id": "c27038e8",
   "metadata": {},
   "outputs": [
    {
     "data": {
      "text/plain": [
       "'씨아이에스'"
      ]
     },
     "execution_count": 88,
     "metadata": {},
     "output_type": "execute_result"
    }
   ],
   "source": [
    "theme_4_4"
   ]
  },
  {
   "cell_type": "code",
   "execution_count": 66,
   "id": "cfc2399d",
   "metadata": {},
   "outputs": [],
   "source": [
    "    item = tree.xpath(\"/html/body/div[1]/div/div/div[12]/div/div/div[2]/div[1]/div[2]/div/div/div/svg/g/g[2]/g[1]/g/g/g/g/g/g[1]/g/g[2]/g/g/g/g[3]/g/g[4]/g/text/tspan\")[0].text\n",
    "    roe_3 = item.strip()"
   ]
  },
  {
   "cell_type": "code",
   "execution_count": 67,
   "id": "21992687",
   "metadata": {},
   "outputs": [
    {
     "data": {
      "text/plain": [
       "'HD현대'"
      ]
     },
     "execution_count": 67,
     "metadata": {},
     "output_type": "execute_result"
    }
   ],
   "source": [
    "roe_3"
   ]
  },
  {
   "cell_type": "code",
   "execution_count": null,
   "id": "cd2dc65e",
   "metadata": {},
   "outputs": [],
   "source": []
  },
  {
   "cell_type": "code",
   "execution_count": 73,
   "id": "71bb0944",
   "metadata": {},
   "outputs": [],
   "source": []
  },
  {
   "cell_type": "code",
   "execution_count": 74,
   "id": "04f4a1e7",
   "metadata": {},
   "outputs": [
    {
     "data": {
      "text/plain": [
       "'3.65'"
      ]
     },
     "execution_count": 74,
     "metadata": {},
     "output_type": "execute_result"
    }
   ],
   "source": [
    "roe_1"
   ]
  },
  {
   "cell_type": "code",
   "execution_count": 75,
   "id": "3c0afd09",
   "metadata": {},
   "outputs": [
    {
     "data": {
      "text/plain": [
       "'13.17'"
      ]
     },
     "execution_count": 75,
     "metadata": {},
     "output_type": "execute_result"
    }
   ],
   "source": [
    "roe_2"
   ]
  },
  {
   "cell_type": "code",
   "execution_count": 76,
   "id": "ee971704",
   "metadata": {},
   "outputs": [
    {
     "data": {
      "text/plain": [
       "'27.41'"
      ]
     },
     "execution_count": 76,
     "metadata": {},
     "output_type": "execute_result"
    }
   ],
   "source": [
    "roe_3"
   ]
  },
  {
   "cell_type": "code",
   "execution_count": 77,
   "id": "210d69ea",
   "metadata": {},
   "outputs": [
    {
     "data": {
      "text/plain": [
       "'10.91'"
      ]
     },
     "execution_count": 77,
     "metadata": {},
     "output_type": "execute_result"
    }
   ],
   "source": [
    "\n",
    "roe_4"
   ]
  },
  {
   "cell_type": "code",
   "execution_count": 78,
   "id": "553383de",
   "metadata": {},
   "outputs": [
    {
     "ename": "IndexError",
     "evalue": "list index out of range",
     "output_type": "error",
     "traceback": [
      "\u001b[0;31m---------------------------------------------------------------------------\u001b[0m",
      "\u001b[0;31mIndexError\u001b[0m                                Traceback (most recent call last)",
      "Input \u001b[0;32mIn [78]\u001b[0m, in \u001b[0;36m<cell line: 1>\u001b[0;34m()\u001b[0m\n\u001b[0;32m----> 1\u001b[0m item \u001b[38;5;241m=\u001b[39m \u001b[43mtree\u001b[49m\u001b[38;5;241;43m.\u001b[39;49m\u001b[43mxpath\u001b[49m\u001b[43m(\u001b[49m\u001b[38;5;124;43m\"\u001b[39;49m\u001b[38;5;124;43m/html/body/div[1]/div/div/div[12]/div/div/div[2]/div[2]/div[2]/div/div/div/svg/g/g[2]/g[1]/g/g/g/g/g/g[1]/g/g[2]/g/g/g/g[3]/g/g[6]/g/text/tspan\u001b[39;49m\u001b[38;5;124;43m\"\u001b[39;49m\u001b[43m)\u001b[49m\u001b[43m[\u001b[49m\u001b[38;5;241;43m0\u001b[39;49m\u001b[43m]\u001b[49m\u001b[38;5;241m.\u001b[39mtext\n\u001b[1;32m      2\u001b[0m yoy_1 \u001b[38;5;241m=\u001b[39m item\u001b[38;5;241m.\u001b[39mstrip()\n\u001b[1;32m      4\u001b[0m item \u001b[38;5;241m=\u001b[39m tree\u001b[38;5;241m.\u001b[39mxpath(\u001b[38;5;124m\"\u001b[39m\u001b[38;5;124m/html/body/div[1]/div/div/div[12]/div/div/div[2]/div[2]/div[2]/div/div/div/svg/g/g[2]/g[1]/g/g/g/g/g/g[1]/g/g[2]/g/g/g/g[3]/g/g[5]/g/text/tspan\u001b[39m\u001b[38;5;124m\"\u001b[39m)[\u001b[38;5;241m0\u001b[39m]\u001b[38;5;241m.\u001b[39mtext\n",
      "\u001b[0;31mIndexError\u001b[0m: list index out of range"
     ]
    }
   ],
   "source": [
    "item = tree.xpath(\"/html/body/div[1]/div/div/div[12]/div/div/div[2]/div[2]/div[2]/div/div/div/svg/g/g[2]/g[1]/g/g/g/g/g/g[1]/g/g[2]/g/g/g/g[3]/g/g[6]/g/text/tspan\")[0].text\n",
    "yoy_1 = item.strip()\n",
    "\n",
    "item = tree.xpath(\"/html/body/div[1]/div/div/div[12]/div/div/div[2]/div[2]/div[2]/div/div/div/svg/g/g[2]/g[1]/g/g/g/g/g/g[1]/g/g[2]/g/g/g/g[3]/g/g[5]/g/text/tspan\")[0].text\n",
    "yoy_2 = item.strip()\n",
    "\n",
    "item = tree.xpath(\"/html/body/div[1]/div/div/div[12]/div/div/div[2]/div[2]/div[2]/div/div/div/svg/g/g[2]/g[1]/g/g/g/g/g/g[1]/g/g[2]/g/g/g/g[3]/g/g[4]/g/text/tspan\")[0].text\n",
    "yoy_3 = item.strip()\n",
    "\n",
    "item = tree.xpath(\"/html/body/div[1]/div/div/div[12]/div/div/div[2]/div[2]/div[2]/div/div/div/svg/g/g[2]/g[1]/g/g/g/g/g/g[1]/g/g[2]/g/g/g/g[3]/g/g[3]/g/text/tspan\")[0].text\n",
    "yoy_4 = item.strip()    \n"
   ]
  },
  {
   "cell_type": "code",
   "execution_count": 87,
   "id": "dc49a8b9",
   "metadata": {},
   "outputs": [
    {
     "data": {
      "text/plain": [
       "'https://mirae-rpa.some.co.kr/report.html?report_id=1_2094'"
      ]
     },
     "execution_count": 87,
     "metadata": {},
     "output_type": "execute_result"
    }
   ],
   "source": [
    "url"
   ]
  },
  {
   "cell_type": "code",
   "execution_count": null,
   "id": "4dd2fb23",
   "metadata": {},
   "outputs": [],
   "source": []
  }
 ],
 "metadata": {
  "kernelspec": {
   "display_name": "Python 3 (ipykernel)",
   "language": "python",
   "name": "python3"
  },
  "language_info": {
   "codemirror_mode": {
    "name": "ipython",
    "version": 3
   },
   "file_extension": ".py",
   "mimetype": "text/x-python",
   "name": "python",
   "nbconvert_exporter": "python",
   "pygments_lexer": "ipython3",
   "version": "3.9.12"
  }
 },
 "nbformat": 4,
 "nbformat_minor": 5
}
