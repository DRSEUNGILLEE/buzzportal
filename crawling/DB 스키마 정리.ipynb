{
 "cells": [
  {
   "cell_type": "markdown",
   "id": "10db6f46",
   "metadata": {},
   "source": [
    "## DB 스키마 - opinion_outside.db"
   ]
  },
  {
   "cell_type": "markdown",
   "id": "3cdbc40a",
   "metadata": {},
   "source": [
    "### 테이블: appstore\n",
    "\n",
    "|항목 | 타입| 프라이머리|\n",
    "|-|-|-|\n",
    "|USER|text|x|\n",
    "|DATE|text|o|\n",
    "|STAR|integer|x|\n",
    "|LIKE|integer|x|\n",
    "|TITLE|text|x|\n",
    "|REVIEW|text|o|"
   ]
  },
  {
   "cell_type": "markdown",
   "id": "c5027f55",
   "metadata": {},
   "source": [
    "### 테이블: google_news\n",
    "\n",
    "|항목 | 타입| 프라이머리|\n",
    "|-|-|-|\n",
    "|published|text|x|\n",
    "|source|text|o|\n",
    "|title|text|x|\n",
    "|link|text|x|\n"
   ]
  },
  {
   "cell_type": "code",
   "execution_count": null,
   "id": "7fe9fbf4",
   "metadata": {},
   "outputs": [],
   "source": []
  },
  {
   "cell_type": "code",
   "execution_count": null,
   "id": "2966a3f4",
   "metadata": {},
   "outputs": [],
   "source": []
  }
 ],
 "metadata": {
  "kernelspec": {
   "display_name": "Python 3 (ipykernel)",
   "language": "python",
   "name": "python3"
  },
  "language_info": {
   "codemirror_mode": {
    "name": "ipython",
    "version": 3
   },
   "file_extension": ".py",
   "mimetype": "text/x-python",
   "name": "python",
   "nbconvert_exporter": "python",
   "pygments_lexer": "ipython3",
   "version": "3.9.7"
  }
 },
 "nbformat": 4,
 "nbformat_minor": 5
}
