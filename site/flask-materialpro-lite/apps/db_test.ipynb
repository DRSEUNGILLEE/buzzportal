{
 "cells": [
  {
   "cell_type": "code",
   "execution_count": 1,
   "id": "c1c53af6",
   "metadata": {},
   "outputs": [],
   "source": [
    "import pandas as pd\n",
    "import numpy as np\n",
    "import datetime\n",
    "import sqlite3"
   ]
  },
  {
   "cell_type": "code",
   "execution_count": 3,
   "id": "dc8760e8",
   "metadata": {},
   "outputs": [],
   "source": [
    "conn = sqlite3.connect(\"db.sqlite3\")\n",
    "cur = conn.cursor()"
   ]
  },
  {
   "cell_type": "markdown",
   "id": "2c4351a2",
   "metadata": {},
   "source": [
    "pw: mirae123!"
   ]
  },
  {
   "cell_type": "code",
   "execution_count": 4,
   "id": "4c6a5cd1",
   "metadata": {},
   "outputs": [
    {
     "data": {
      "text/html": [
       "<div>\n",
       "<style scoped>\n",
       "    .dataframe tbody tr th:only-of-type {\n",
       "        vertical-align: middle;\n",
       "    }\n",
       "\n",
       "    .dataframe tbody tr th {\n",
       "        vertical-align: top;\n",
       "    }\n",
       "\n",
       "    .dataframe thead th {\n",
       "        text-align: right;\n",
       "    }\n",
       "</style>\n",
       "<table border=\"1\" class=\"dataframe\">\n",
       "  <thead>\n",
       "    <tr style=\"text-align: right;\">\n",
       "      <th></th>\n",
       "      <th>id</th>\n",
       "      <th>username</th>\n",
       "      <th>email</th>\n",
       "      <th>password</th>\n",
       "    </tr>\n",
       "  </thead>\n",
       "  <tbody>\n",
       "    <tr>\n",
       "      <th>0</th>\n",
       "      <td>1</td>\n",
       "      <td>admin</td>\n",
       "      <td>seungil.lee@miraeasset.com</td>\n",
       "      <td>b'b5d11788774d31b20adecb9a91a9b90fdf206bb90f6f...</td>\n",
       "    </tr>\n",
       "  </tbody>\n",
       "</table>\n",
       "</div>"
      ],
      "text/plain": [
       "   id username                       email  \\\n",
       "0   1    admin  seungil.lee@miraeasset.com   \n",
       "\n",
       "                                            password  \n",
       "0  b'b5d11788774d31b20adecb9a91a9b90fdf206bb90f6f...  "
      ]
     },
     "execution_count": 4,
     "metadata": {},
     "output_type": "execute_result"
    }
   ],
   "source": [
    "df_already= pd.read_sql(\n",
    "\"\"\"\n",
    "SELECT \n",
    "* \n",
    "FROM \n",
    "Users \n",
    "\n",
    "\"\"\"\n",
    ",conn)\n",
    "df_already\n"
   ]
  },
  {
   "cell_type": "code",
   "execution_count": null,
   "id": "2e1f3f9a",
   "metadata": {},
   "outputs": [],
   "source": []
  }
 ],
 "metadata": {
  "kernelspec": {
   "display_name": "Python 3 (ipykernel)",
   "language": "python",
   "name": "python3"
  },
  "language_info": {
   "codemirror_mode": {
    "name": "ipython",
    "version": 3
   },
   "file_extension": ".py",
   "mimetype": "text/x-python",
   "name": "python",
   "nbconvert_exporter": "python",
   "pygments_lexer": "ipython3",
   "version": "3.9.12"
  }
 },
 "nbformat": 4,
 "nbformat_minor": 5
}
